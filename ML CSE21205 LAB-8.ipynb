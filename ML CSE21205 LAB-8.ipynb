{
 "cells": [
  {
   "cell_type": "code",
   "execution_count": 1,
   "id": "262279a9",
   "metadata": {},
   "outputs": [
    {
     "name": "stdout",
     "output_type": "stream",
     "text": [
      "Prior Probabilities for 'buys_computer' classes:\n",
      "buys_computer\n",
      "yes    0.642857\n",
      "no     0.357143\n",
      "Name: proportion, dtype: float64\n"
     ]
    }
   ],
   "source": [
    "import pandas as pd\n",
    "\n",
    "data = {\n",
    "    'age': ['<=30', '<=30', '31…40', '>40', '>40', '>40', '31…40', '<=30', '<=30', '>40',\n",
    "            '<=30', '31…40', '31…40', '>40'],\n",
    "    'income': ['high', 'high', 'high', 'medium', 'low', 'low', 'low', 'medium', 'low',\n",
    "               'medium', 'medium', 'medium', 'high', 'medium'],\n",
    "    'student': ['no', 'no', 'no', 'no', 'yes', 'yes', 'yes', 'no', 'yes', 'yes', 'yes',\n",
    "                'no', 'yes', 'no'],\n",
    "    'credit_rating': ['fair', 'excellent', 'fair', 'fair', 'fair', 'excellent', 'excellent',\n",
    "                      'fair', 'fair', 'fair', 'excellent', 'excellent', 'fair', 'excellent'],\n",
    "    'buys_computer': ['no', 'no', 'yes', 'yes', 'yes', 'no', 'yes', 'no', 'yes', 'yes',\n",
    "                      'yes', 'yes', 'yes', 'no']\n",
    "}\n",
    "\n",
    "df = pd.DataFrame(data)\n",
    "\n",
    "prior_prob = df['buys_computer'].value_counts(normalize=True)\n",
    "print(\"Prior Probabilities for 'buys_computer' classes:\")\n",
    "print(prior_prob)\n"
   ]
  },
  {
   "cell_type": "code",
   "execution_count": 5,
   "id": "ab95e585",
   "metadata": {},
   "outputs": [
    {
     "name": "stdout",
     "output_type": "stream",
     "text": [
      "Class-Conditional Density for 'age':\n",
      "buys_computer  age  \n",
      "no             <=30     0.214286\n",
      "               >40      0.142857\n",
      "yes            31…40    0.285714\n",
      "               <=30     0.142857\n",
      "               >40      0.214286\n",
      "dtype: float64\n",
      "\n",
      "Class-Conditional Density for 'income':\n",
      "buys_computer  income\n",
      "no             high      0.142857\n",
      "               low       0.071429\n",
      "               medium    0.142857\n",
      "yes            high      0.142857\n",
      "               low       0.214286\n",
      "               medium    0.285714\n",
      "dtype: float64\n",
      "\n",
      "Class-Conditional Density for 'student':\n",
      "buys_computer  student\n",
      "no             no         0.285714\n",
      "               yes        0.071429\n",
      "yes            no         0.214286\n",
      "               yes        0.428571\n",
      "dtype: float64\n",
      "\n",
      "Class-Conditional Density for 'credit_rating':\n",
      "buys_computer  credit_rating\n",
      "no             excellent        0.214286\n",
      "               fair             0.142857\n",
      "yes            excellent        0.214286\n",
      "               fair             0.428571\n",
      "dtype: float64\n",
      "\n"
     ]
    }
   ],
   "source": [
    "import pandas as pd\n",
    "\n",
    "data = {\n",
    "    'age': ['<=30', '<=30', '31…40', '>40', '>40', '>40', '31…40', '<=30', '<=30', '>40',\n",
    "            '<=30', '31…40', '31…40', '>40'],\n",
    "    'income': ['high', 'high', 'high', 'medium', 'low', 'low', 'low', 'medium', 'low',\n",
    "               'medium', 'medium', 'medium', 'high', 'medium'],\n",
    "    'student': ['no', 'no', 'no', 'no', 'yes', 'yes', 'yes', 'no', 'yes', 'yes', 'yes',\n",
    "                'no', 'yes', 'no'],\n",
    "    'credit_rating': ['fair', 'excellent', 'fair', 'fair', 'fair', 'excellent', 'excellent',\n",
    "                      'fair', 'fair', 'fair', 'excellent', 'excellent', 'fair', 'excellent'],\n",
    "    'buys_computer': ['no', 'no', 'yes', 'yes', 'yes', 'no', 'yes', 'no', 'yes', 'yes',\n",
    "                      'yes', 'yes', 'yes', 'no']\n",
    "}\n",
    "\n",
    "df = pd.DataFrame(data)\n",
    "\n",
    "class_conditional_densities = {}\n",
    "for feature in df.columns[:-1]:\n",
    "    class_conditional_densities[feature] = df.groupby(['buys_computer', feature]).size() / len(df)\n",
    "\n",
    "for feature, density in class_conditional_densities.items():\n",
    "    print(f\"Class-Conditional Density for '{feature}':\")\n",
    "    print(density)\n",
    "    print()\n",
    "\n",
    "for feature, density in class_conditional_densities.items():\n",
    "    if density.isnull().any():\n",
    "        print(f\"At least one class-conditional density for '{feature}' has zero values.\")"
   ]
  },
  {
   "cell_type": "code",
   "execution_count": 6,
   "id": "9ac21f46",
   "metadata": {},
   "outputs": [
    {
     "name": "stdout",
     "output_type": "stream",
     "text": [
      "Chi-square Statistic: 25.200000000000003\n",
      "P-value: 0.3949583040945451\n",
      "Degrees of Freedom: 24\n"
     ]
    }
   ],
   "source": [
    "import pandas as pd\n",
    "from scipy.stats import chi2_contingency\n",
    "\n",
    "data = {\n",
    "    'age': ['<=30', '<=30', '31…40', '>40', '>40', '>40', '31…40', '<=30', '<=30', '>40',\n",
    "            '<=30', '31…40', '31…40', '>40'],\n",
    "    'income': ['high', 'high', 'high', 'medium', 'low', 'low', 'low', 'medium', 'low',\n",
    "               'medium', 'medium', 'medium', 'high', 'medium'],\n",
    "    'student': ['no', 'no', 'no', 'no', 'yes', 'yes', 'yes', 'no', 'yes', 'yes', 'yes',\n",
    "                'no', 'yes', 'no'],\n",
    "    'credit_rating': ['fair', 'excellent', 'fair', 'fair', 'fair', 'excellent', 'excellent',\n",
    "                      'fair', 'fair', 'fair', 'excellent', 'excellent', 'fair', 'excellent'],\n",
    "    'buys_computer': ['no', 'no', 'yes', 'yes', 'yes', 'no', 'yes', 'no', 'yes', 'yes',\n",
    "                      'yes', 'yes', 'yes', 'no']\n",
    "}\n",
    "\n",
    "df = pd.DataFrame(data)\n",
    "\n",
    "# Create contingency table (cross-tabulation) for selected columns\n",
    "#The chi-square test for independence is a statistical method used to determine if there is a significant association between categorical variables by comparing \n",
    "#observed and expected frequencies in a contingency table. If the test shows a low p-value (< 0.05), it suggests that the variables are dependent.\n",
    "contingency_table = pd.crosstab(df['age'], [df['income'], df['student'], df['credit_rating'], df['buys_computer']])\n",
    "\n",
    "# Perform chi-square test of independence\n",
    "chi2, p, dof, expected = chi2_contingency(contingency_table)\n",
    "\n",
    "# Display results\n",
    "print(f\"Chi-square Statistic: {chi2}\")\n",
    "print(f\"P-value: {p}\")\n",
    "print(f\"Degrees of Freedom: {dof}\")\n"
   ]
  },
  {
   "cell_type": "code",
   "execution_count": 7,
   "id": "8f65c07a",
   "metadata": {},
   "outputs": [
    {
     "name": "stdout",
     "output_type": "stream",
     "text": [
      "\n",
      "Naïve-Bayes Classifier Test Set Accuracy: 0.6666666666666666\n"
     ]
    }
   ],
   "source": [
    "import pandas as pd\n",
    "from sklearn.naive_bayes import GaussianNB\n",
    "from sklearn.preprocessing import LabelEncoder\n",
    "from sklearn.model_selection import train_test_split\n",
    "from sklearn.metrics import accuracy_score\n",
    "\n",
    "# Given data\n",
    "data = {\n",
    "    'age': ['<=30', '<=30', '31…40', '>40', '>40', '>40', '31…40', '<=30', '<=30', '>40', '<=30', '31…40', '31…40', '>40'],\n",
    "    'income': ['high', 'high', 'high', 'medium', 'low', 'low', 'low', 'medium', 'low', 'medium', 'medium', 'medium', 'high', 'medium'],\n",
    "    'student': ['no', 'no', 'no', 'no', 'yes', 'yes', 'yes', 'no', 'yes', 'yes', 'yes', 'no', 'yes', 'no'],\n",
    "    'credit_rating': ['fair', 'excellent', 'fair', 'fair', 'fair', 'excellent', 'excellent', 'fair', 'fair', 'fair', 'excellent', 'excellent', 'fair', 'excellent'],\n",
    "    'buys_computer': ['no', 'no', 'yes', 'yes', 'yes', 'no', 'yes', 'no', 'yes', 'yes', 'yes', 'yes', 'yes', 'no']\n",
    "}\n",
    "\n",
    "# Create a DataFrame\n",
    "df = pd.DataFrame(data)\n",
    "\n",
    "# Encoding string data into numerical data\n",
    "le = LabelEncoder()\n",
    "df_encoded = df.apply(le.fit_transform)\n",
    "\n",
    "# Separate features and target variable\n",
    "X = df_encoded.drop('buys_computer', axis=1)\n",
    "y = df_encoded['buys_computer']\n",
    "\n",
    "# Split the dataset into training and testing sets\n",
    "X_train, X_test, y_train, y_test = train_test_split(X, y, test_size=0.2, random_state=42)\n",
    "\n",
    "# Build a Naïve-Bayes classifier\n",
    "model = GaussianNB()\n",
    "model.fit(X_train, y_train)\n",
    "\n",
    "# Make predictions on the test set\n",
    "predictions = model.predict(X_test)\n",
    "\n",
    "# Calculate accuracy of the predictions\n",
    "accuracy = accuracy_score(y_test, predictions)\n",
    "\n",
    "print(\"\\nNaïve-Bayes Classifier Test Set Accuracy:\", accuracy)\n"
   ]
  },
  {
   "cell_type": "code",
   "execution_count": 11,
   "id": "b84b2094",
   "metadata": {},
   "outputs": [
    {
     "name": "stdout",
     "output_type": "stream",
     "text": [
      "0.23731884057971014\n"
     ]
    }
   ],
   "source": [
    "import pandas as pd\n",
    "from sklearn.model_selection import train_test_split\n",
    "from sklearn.metrics import accuracy_score\n",
    "\n",
    "# Load the dataset\n",
    "data = pd.read_csv('Telugu_Char_Gabor_.csv')\n",
    "\n",
    "# Separate the features and labels\n",
    "X = data.drop(columns=['ImageName','Label'])\n",
    "y = data['Label']\n",
    "\n",
    "# Split the data into training and testing sets\n",
    "X_train, X_test, y_train, y_test = train_test_split(X, y, test_size=0.2, random_state=42)\n",
    "\n",
    "# Create a Gaussian Naive Bayes classifier\n",
    "model = GaussianNB()\n",
    "\n",
    "# Train the classifier\n",
    "model.fit(X_train, y_train)\n",
    "\n",
    "# Make predictions on the test set\n",
    "y_pred = model.predict(X_test)\n",
    "\n",
    "# Evaluate the classifier\n",
    "accuracy = accuracy_score(y_test, y_pred)\n",
    "\n",
    "# Print the accuracy\n",
    "print(accuracy)"
   ]
  },
  {
   "cell_type": "code",
   "execution_count": null,
   "id": "6874a068",
   "metadata": {},
   "outputs": [],
   "source": []
  }
 ],
 "metadata": {
  "kernelspec": {
   "display_name": "Python 3 (ipykernel)",
   "language": "python",
   "name": "python3"
  },
  "language_info": {
   "codemirror_mode": {
    "name": "ipython",
    "version": 3
   },
   "file_extension": ".py",
   "mimetype": "text/x-python",
   "name": "python",
   "nbconvert_exporter": "python",
   "pygments_lexer": "ipython3",
   "version": "3.11.5"
  }
 },
 "nbformat": 4,
 "nbformat_minor": 5
}
