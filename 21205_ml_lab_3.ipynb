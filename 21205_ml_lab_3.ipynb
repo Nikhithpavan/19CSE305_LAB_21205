{
 "cells": [
  {
   "cell_type": "code",
   "execution_count": 3,
   "id": "d7b05ee6",
   "metadata": {},
   "outputs": [
    {
     "name": "stdout",
     "output_type": "stream",
     "text": [
      "              0         1          2    3          4          5          6  \\\n",
      "0     27.630783  0.000000  51.067493  0.0  26.302004   0.000000   0.000000   \n",
      "1     41.934185  0.000000  57.616398  0.0  40.345722   0.000000   0.000000   \n",
      "2     59.681458  0.000000  35.450397  0.0  51.084698   0.000000   0.000000   \n",
      "3     25.652845  0.000000  42.711246  0.0  26.391441   0.000000   0.000000   \n",
      "4     51.862490  0.000000  25.455917  0.0  48.505250   0.000000   0.000000   \n",
      "...         ...       ...        ...  ...        ...        ...        ...   \n",
      "6652   0.000000  8.917019  12.606703  0.0   0.000000  23.875010   0.000000   \n",
      "6653  12.088920  3.646342  28.106102  0.0   0.000000   0.000000   0.000000   \n",
      "6654   0.000000  0.000000  53.899130  0.0   0.000000   0.000000  12.079654   \n",
      "6655   0.000000  0.000000  37.811558  0.0   0.000000   0.000000   8.555406   \n",
      "6656   0.000000  0.000000  29.105694  0.0   0.000000   8.669491  20.568624   \n",
      "\n",
      "        7    8         9  ...         55         56   57         58  \\\n",
      "0     0.0  0.0  0.000000  ...  35.563477   8.822042  0.0  18.269510   \n",
      "1     0.0  0.0  0.000000  ...  33.432617  22.573324  0.0  25.266916   \n",
      "2     0.0  0.0  4.531399  ...  17.747238  22.295591  0.0   9.600313   \n",
      "3     0.0  0.0  0.000000  ...  25.998358  12.029038  0.0  19.127953   \n",
      "4     0.0  0.0  0.000000  ...  27.024067   1.758605  0.0  17.696215   \n",
      "...   ...  ...       ...  ...        ...        ...  ...        ...   \n",
      "6652  0.0  0.0  9.403310  ...   0.000000   9.477231  0.0   0.000000   \n",
      "6653  0.0  0.0  0.000000  ...   0.000000   0.000000  0.0   0.000000   \n",
      "6654  0.0  0.0  0.000000  ...  12.388772  58.245360  0.0   0.000000   \n",
      "6655  0.0  0.0  0.000000  ...   7.663426  23.674717  0.0   0.000000   \n",
      "6656  0.0  0.0  0.000000  ...  11.354428  39.144600  0.0   0.000000   \n",
      "\n",
      "             59         60         61         62   63  class_name  \n",
      "0     82.596970   0.000000   0.000000   1.751286  0.0        3333  \n",
      "1     71.188900   0.000000   0.000000   0.000000  0.0        3333  \n",
      "2     39.380276   0.000000   0.000000  13.358544  0.0        3333  \n",
      "3     60.226376   0.000000   0.000000   0.000000  0.0        3333  \n",
      "4     64.634834   0.000000   0.000000   9.861172  0.0        3333  \n",
      "...         ...        ...        ...        ...  ...         ...  \n",
      "6652  46.723995   0.000000  20.901190   7.003646  0.0        3454  \n",
      "6653  38.677414   0.000000   1.824834   7.562943  0.0        3454  \n",
      "6654  47.787598   5.880453   0.000000   3.556168  0.0        3454  \n",
      "6655  53.260387   3.350826   0.000000   8.673196  0.0        3454  \n",
      "6656  62.376480  13.449656   0.000000  10.945368  0.0        3454  \n",
      "\n",
      "[6657 rows x 65 columns]\n"
     ]
    },
    {
     "data": {
      "text/plain": [
       "(6657, 65)"
      ]
     },
     "execution_count": 3,
     "metadata": {},
     "output_type": "execute_result"
    }
   ],
   "source": [
    "import pandas as pd\n",
    "import numpy as np\n",
    "df=pd.read_csv(\"extracted_features_charrec_dense7.csv\")\n",
    "print(df)\n",
    "df.shape\n"
   ]
  },
  {
   "cell_type": "code",
   "execution_count": 4,
   "id": "d832b576",
   "metadata": {},
   "outputs": [
    {
     "data": {
      "text/plain": [
       "113.88492503658134"
      ]
     },
     "execution_count": 4,
     "metadata": {},
     "output_type": "execute_result"
    }
   ],
   "source": [
    "np.dot(df[\"0\"],df[\"45\"])"
   ]
  },
  {
   "cell_type": "code",
   "execution_count": 5,
   "id": "008f86eb",
   "metadata": {},
   "outputs": [
    {
     "data": {
      "text/plain": [
       "2435.502005891182"
      ]
     },
     "execution_count": 5,
     "metadata": {},
     "output_type": "execute_result"
    }
   ],
   "source": [
    "np.linalg.norm(df[\"0\"])"
   ]
  },
  {
   "cell_type": "code",
   "execution_count": 6,
   "id": "8c9bc6c6",
   "metadata": {},
   "outputs": [],
   "source": [
    "class_A_data = df[df['class_name'] == 3334]\n",
    "class_B_data = df[df['class_name'] == 3335]\n"
   ]
  },
  {
   "cell_type": "code",
   "execution_count": 7,
   "id": "d3af43b0",
   "metadata": {},
   "outputs": [],
   "source": [
    "import numpy as np\n",
    "\n",
    "centroid_A = np.mean(class_A_data, axis=0)\n",
    "centroid_B = np.mean(class_B_data, axis=0)\n"
   ]
  },
  {
   "cell_type": "code",
   "execution_count": 8,
   "id": "70274b36",
   "metadata": {},
   "outputs": [
    {
     "data": {
      "text/plain": [
       "0               31.041534\n",
       "1                0.309216\n",
       "2                9.149055\n",
       "3                0.007348\n",
       "4               37.098322\n",
       "                 ...     \n",
       "60               0.015213\n",
       "61               0.098929\n",
       "62              16.328774\n",
       "63               0.000000\n",
       "class_name    3334.000000\n",
       "Length: 65, dtype: float64"
      ]
     },
     "execution_count": 8,
     "metadata": {},
     "output_type": "execute_result"
    }
   ],
   "source": [
    "centroid_A"
   ]
  },
  {
   "cell_type": "code",
   "execution_count": 9,
   "id": "bec62feb",
   "metadata": {},
   "outputs": [
    {
     "data": {
      "text/plain": [
       "0               33.954744\n",
       "1                7.803311\n",
       "2                0.929065\n",
       "3                0.000000\n",
       "4               48.753925\n",
       "                 ...     \n",
       "60               0.035407\n",
       "61               5.166118\n",
       "62              24.849326\n",
       "63               0.000000\n",
       "class_name    3335.000000\n",
       "Length: 65, dtype: float64"
      ]
     },
     "execution_count": 9,
     "metadata": {},
     "output_type": "execute_result"
    }
   ],
   "source": [
    "centroid_B"
   ]
  },
  {
   "cell_type": "code",
   "execution_count": 10,
   "id": "0e4f60f6",
   "metadata": {},
   "outputs": [],
   "source": [
    "centroid_A = np.std(class_A_data,axis=0)\n",
    "centroid_B = np.std(class_B_data,axis=0)"
   ]
  },
  {
   "cell_type": "code",
   "execution_count": 11,
   "id": "e0d03612",
   "metadata": {},
   "outputs": [
    {
     "data": {
      "text/plain": [
       "0             14.117133\n",
       "1              4.608137\n",
       "2              4.158898\n",
       "3              0.000000\n",
       "4             21.907818\n",
       "                ...    \n",
       "60             0.435084\n",
       "61             6.307505\n",
       "62            10.803543\n",
       "63             0.000000\n",
       "class_name     0.000000\n",
       "Length: 65, dtype: float64"
      ]
     },
     "execution_count": 11,
     "metadata": {},
     "output_type": "execute_result"
    }
   ],
   "source": [
    "centroid_A\n",
    "centroid_B"
   ]
  },
  {
   "cell_type": "code",
   "execution_count": 12,
   "id": "ddea2226",
   "metadata": {},
   "outputs": [
    {
     "data": {
      "text/plain": [
       "32.2593893920739"
      ]
     },
     "execution_count": 12,
     "metadata": {},
     "output_type": "execute_result"
    }
   ],
   "source": [
    "x = np.linalg.norm(centroid_A - centroid_B)\n",
    "x"
   ]
  },
  {
   "cell_type": "code",
   "execution_count": 93,
   "id": "b80c5748",
   "metadata": {},
   "outputs": [
    {
     "data": {
      "image/png": "[encoded data removed]",
      "text/plain": [
       "<Figure size 640x480 with 1 Axes>"
      ]
     },
     "metadata": {},
     "output_type": "display_data"
    }
   ],
   "source": [
    "\n",
    "import numpy as np\n",
    "import matplotlib.pyplot as plt\n",
    "\n",
    "selected_feature = df['0']\n",
    "num_bins =10\n",
    "hist, bins = np.histogram(selected_feature, bins=num_bins)\n",
    "\n",
    "plt.hist(selected_feature, bins=num_bins,  color='r', edgecolor='black')\n",
    "plt.xlabel('Value')\n",
    "plt.ylabel('Frequency')\n",
    "plt.title('Histogram of Selected Feature')\n",
    "plt.show()\n"
   ]
  },
  {
   "cell_type": "code",
   "execution_count": 92,
   "id": "7ed8d01a",
   "metadata": {},
   "outputs": [
    {
     "data": {
      "image/png": "[encoded data removed]",
      "text/plain": [
       "<Figure size 640x480 with 1 Axes>"
      ]
     },
     "metadata": {},
     "output_type": "display_data"
    }
   ],
   "source": [
    "import numpy as np\n",
    "import matplotlib.pyplot as plt\n",
    "vector1 = df.iloc[0, :]  \n",
    "vector2 = df.iloc[1, :]  \n",
    "distances = []\n",
    "r_values = list(range(1, 11))\n",
    "for r in r_values:\n",
    "    distance = np.power(np.sum(np.abs(vector1 - vector2) ** r), 1/r)\n",
    "    distances.append(distance)\n",
    "\n",
    "plt.plot(r_values, distances, marker='o', linestyle=':')\n",
    "plt.xlabel('r')\n",
    "plt.ylabel('Minkowski Distance')\n",
    "plt.title('Minkowski Distance vs. r')\n",
    "plt.grid(True)\n",
    "plt.show()\n"
   ]
  },
  {
   "cell_type": "code",
   "execution_count": 15,
   "id": "91167a8e",
   "metadata": {},
   "outputs": [],
   "source": [
    "import numpy as np\n",
    "from sklearn.model_selection import train_test_split\n",
    "X = df.iloc[:, :-1]\n",
    "y = df.iloc[:, -1]\n",
    "\n",
    "X_train, X_test, y_train, y_test = train_test_split(X, y, test_size=0.3)\n"
   ]
  },
  {
   "cell_type": "code",
   "execution_count": 16,
   "id": "3a4dca88",
   "metadata": {},
   "outputs": [
    {
     "data": {
      "text/plain": [
       "6083    3383\n",
       "788     3343\n",
       "3998    3365\n",
       "5567    3379\n",
       "1097    3349\n",
       "        ... \n",
       "1832    3354\n",
       "1492    3351\n",
       "2549    3359\n",
       "4467    3370\n",
       "2605    3359\n",
       "Name: class_name, Length: 1998, dtype: int64"
      ]
     },
     "execution_count": 16,
     "metadata": {},
     "output_type": "execute_result"
    }
   ],
   "source": [
    "y_test"
   ]
  },
  {
   "cell_type": "code",
   "execution_count": 71,
   "id": "3ee54f34",
   "metadata": {},
   "outputs": [
    {
     "name": "stdout",
     "output_type": "stream",
     "text": [
      "              0         1          2    3          4          5          6  \\\n",
      "0     27.630783  0.000000  51.067493  0.0  26.302004   0.000000   0.000000   \n",
      "1     41.934185  0.000000  57.616398  0.0  40.345722   0.000000   0.000000   \n",
      "2     59.681458  0.000000  35.450397  0.0  51.084698   0.000000   0.000000   \n",
      "3     25.652845  0.000000  42.711246  0.0  26.391441   0.000000   0.000000   \n",
      "4     51.862490  0.000000  25.455917  0.0  48.505250   0.000000   0.000000   \n",
      "...         ...       ...        ...  ...        ...        ...        ...   \n",
      "6652   0.000000  8.917019  12.606703  0.0   0.000000  23.875010   0.000000   \n",
      "6653  12.088920  3.646342  28.106102  0.0   0.000000   0.000000   0.000000   \n",
      "6654   0.000000  0.000000  53.899130  0.0   0.000000   0.000000  12.079654   \n",
      "6655   0.000000  0.000000  37.811558  0.0   0.000000   0.000000   8.555406   \n",
      "6656   0.000000  0.000000  29.105694  0.0   0.000000   8.669491  20.568624   \n",
      "\n",
      "        7    8         9  ...         55         56   57         58  \\\n",
      "0     0.0  0.0  0.000000  ...  35.563477   8.822042  0.0  18.269510   \n",
      "1     0.0  0.0  0.000000  ...  33.432617  22.573324  0.0  25.266916   \n",
      "2     0.0  0.0  4.531399  ...  17.747238  22.295591  0.0   9.600313   \n",
      "3     0.0  0.0  0.000000  ...  25.998358  12.029038  0.0  19.127953   \n",
      "4     0.0  0.0  0.000000  ...  27.024067   1.758605  0.0  17.696215   \n",
      "...   ...  ...       ...  ...        ...        ...  ...        ...   \n",
      "6652  0.0  0.0  9.403310  ...   0.000000   9.477231  0.0   0.000000   \n",
      "6653  0.0  0.0  0.000000  ...   0.000000   0.000000  0.0   0.000000   \n",
      "6654  0.0  0.0  0.000000  ...  12.388772  58.245360  0.0   0.000000   \n",
      "6655  0.0  0.0  0.000000  ...   7.663426  23.674717  0.0   0.000000   \n",
      "6656  0.0  0.0  0.000000  ...  11.354428  39.144600  0.0   0.000000   \n",
      "\n",
      "             59         60         61         62   63  class_name  \n",
      "0     82.596970   0.000000   0.000000   1.751286  0.0        3333  \n",
      "1     71.188900   0.000000   0.000000   0.000000  0.0        3333  \n",
      "2     39.380276   0.000000   0.000000  13.358544  0.0        3333  \n",
      "3     60.226376   0.000000   0.000000   0.000000  0.0        3333  \n",
      "4     64.634834   0.000000   0.000000   9.861172  0.0        3333  \n",
      "...         ...        ...        ...        ...  ...         ...  \n",
      "6652  46.723995   0.000000  20.901190   7.003646  0.0        3454  \n",
      "6653  38.677414   0.000000   1.824834   7.562943  0.0        3454  \n",
      "6654  47.787598   5.880453   0.000000   3.556168  0.0        3454  \n",
      "6655  53.260387   3.350826   0.000000   8.673196  0.0        3454  \n",
      "6656  62.376480  13.449656   0.000000  10.945368  0.0        3454  \n",
      "\n",
      "[6657 rows x 65 columns]\n"
     ]
    },
    {
     "data": {
      "text/plain": [
       "(6657, 65)"
      ]
     },
     "execution_count": 71,
     "metadata": {},
     "output_type": "execute_result"
    }
   ],
   "source": [
    "import pandas as pd\n",
    "import numpy as np\n",
    "import seaborn as sns\n",
    "import matplotlib.pyplot as plt\n",
    "from sklearn.model_selection import train_test_split\n",
    "\n",
    "from sklearn.neighbors import KNeighborsClassifier\n",
    "from sklearn.metrics import accuracy_score\n",
    "\n",
    "from sklearn.model_selection import train_test_split\n",
    "\n",
    "dt=pd.read_csv(\"extracted_features_charrec_dense7.csv\")\n",
    "print(dt)\n",
    "dt.shape"
   ]
  },
  {
   "cell_type": "code",
   "execution_count": 72,
   "id": "57dae92b",
   "metadata": {},
   "outputs": [],
   "source": [
    "\n",
    "data = np.genfromtxt(\"extracted_features_charrec_dense7.csv\", delimiter=',', skip_header=1)\n",
    "\n",
    "# Extract feature vectors and class labels\n",
    "X = data[:, :-1]\n",
    "y = data[:, -1]\n",
    "\n",
    "np.savez('extracted_features_charrec_dense7.npz', X=X, y=y)\n"
   ]
  },
  {
   "cell_type": "code",
   "execution_count": 73,
   "id": "6d3fe2e0",
   "metadata": {},
   "outputs": [
    {
     "data": {
      "text/plain": [
       "array([0.0000000e+00, 3.4163892e-04, 4.6131015e-04, ..., 3.4520000e+03,\n",
       "       3.4530000e+03, 3.4540000e+03])"
      ]
     },
     "execution_count": 73,
     "metadata": {},
     "output_type": "execute_result"
    }
   ],
   "source": [
    "np.unique(data)"
   ]
  },
  {
   "cell_type": "code",
   "execution_count": 74,
   "id": "ab72d4a8",
   "metadata": {},
   "outputs": [
    {
     "data": {
      "text/plain": [
       "array([[2.7630783e+01, 0.0000000e+00, 5.1067493e+01, ..., 1.7512865e+00,\n",
       "        0.0000000e+00, 3.3330000e+03],\n",
       "       [4.1934185e+01, 0.0000000e+00, 5.7616398e+01, ..., 0.0000000e+00,\n",
       "        0.0000000e+00, 3.3330000e+03],\n",
       "       [5.9681458e+01, 0.0000000e+00, 3.5450397e+01, ..., 1.3358544e+01,\n",
       "        0.0000000e+00, 3.3330000e+03],\n",
       "       ...,\n",
       "       [0.0000000e+00, 0.0000000e+00, 5.3899130e+01, ..., 3.5561680e+00,\n",
       "        0.0000000e+00, 3.4540000e+03],\n",
       "       [0.0000000e+00, 0.0000000e+00, 3.7811558e+01, ..., 8.6731960e+00,\n",
       "        0.0000000e+00, 3.4540000e+03],\n",
       "       [0.0000000e+00, 0.0000000e+00, 2.9105694e+01, ..., 1.0945368e+01,\n",
       "        0.0000000e+00, 3.4540000e+03]])"
      ]
     },
     "execution_count": 74,
     "metadata": {},
     "output_type": "execute_result"
    }
   ],
   "source": [
    "zero_rows_mask = (data==0).any(axis=1)\n",
    "class1= data[zero_rows_mask]\n",
    "class1"
   ]
  },
  {
   "cell_type": "code",
   "execution_count": 75,
   "id": "2afa8d8c",
   "metadata": {},
   "outputs": [
    {
     "data": {
      "text/plain": [
       "array([[   0.       ,    3.5745394,   31.44596  , ...,    0.       ,\n",
       "           0.       , 3454.       ],\n",
       "       [   0.       ,    9.891518 ,   17.99879  , ...,    0.       ,\n",
       "           0.       , 3454.       ],\n",
       "       [   0.       ,    9.891518 ,   17.99879  , ...,    0.       ,\n",
       "           0.       , 3454.       ],\n",
       "       ...,\n",
       "       [   0.       ,    0.       ,   53.89913  , ...,    3.556168 ,\n",
       "           0.       , 3454.       ],\n",
       "       [   0.       ,    0.       ,   37.811558 , ...,    8.673196 ,\n",
       "           0.       , 3454.       ],\n",
       "       [   0.       ,    0.       ,   29.105694 , ...,   10.945368 ,\n",
       "           0.       , 3454.       ]])"
      ]
     },
     "execution_count": 75,
     "metadata": {},
     "output_type": "execute_result"
    }
   ],
   "source": [
    "one_rows_mask = (data == 3.4540000e+03).any(axis=1)\n",
    "class2=data[one_rows_mask]\n",
    "class2"
   ]
  },
  {
   "cell_type": "code",
   "execution_count": 77,
   "id": "93afadf5",
   "metadata": {},
   "outputs": [
    {
     "data": {
      "text/html": [
       "<style>#sk-container-id-3 {color: black;}#sk-container-id-3 pre{padding: 0;}#sk-container-id-3 div.sk-toggleable {background-color: white;}#sk-container-id-3 label.sk-toggleable__label {cursor: pointer;display: block;width: 100%;margin-bottom: 0;padding: 0.3em;box-sizing: border-box;text-align: center;}#sk-container-id-3 label.sk-toggleable__label-arrow:before {content: \"▸\";float: left;margin-right: 0.25em;color: #696969;}#sk-container-id-3 label.sk-toggleable__label-arrow:hover:before {color: black;}#sk-container-id-3 div.sk-estimator:hover label.sk-toggleable__label-arrow:before {color: black;}#sk-container-id-3 div.sk-toggleable__content {max-height: 0;max-width: 0;overflow: hidden;text-align: left;background-color: #f0f8ff;}#sk-container-id-3 div.sk-toggleable__content pre {margin: 0.2em;color: black;border-radius: 0.25em;background-color: #f0f8ff;}#sk-container-id-3 input.sk-toggleable__control:checked~div.sk-toggleable__content {max-height: 200px;max-width: 100%;overflow: auto;}#sk-container-id-3 input.sk-toggleable__control:checked~label.sk-toggleable__label-arrow:before {content: \"▾\";}#sk-container-id-3 div.sk-estimator input.sk-toggleable__control:checked~label.sk-toggleable__label {background-color: #d4ebff;}#sk-container-id-3 div.sk-label input.sk-toggleable__control:checked~label.sk-toggleable__label {background-color: #d4ebff;}#sk-container-id-3 input.sk-hidden--visually {border: 0;clip: rect(1px 1px 1px 1px);clip: rect(1px, 1px, 1px, 1px);height: 1px;margin: -1px;overflow: hidden;padding: 0;position: absolute;width: 1px;}#sk-container-id-3 div.sk-estimator {font-family: monospace;background-color: #f0f8ff;border: 1px dotted black;border-radius: 0.25em;box-sizing: border-box;margin-bottom: 0.5em;}#sk-container-id-3 div.sk-estimator:hover {background-color: #d4ebff;}#sk-container-id-3 div.sk-parallel-item::after {content: \"\";width: 100%;border-bottom: 1px solid gray;flex-grow: 1;}#sk-container-id-3 div.sk-label:hover label.sk-toggleable__label {background-color: #d4ebff;}#sk-container-id-3 div.sk-serial::before {content: \"\";position: absolute;border-left: 1px solid gray;box-sizing: border-box;top: 0;bottom: 0;left: 50%;z-index: 0;}#sk-container-id-3 div.sk-serial {display: flex;flex-direction: column;align-items: center;background-color: white;padding-right: 0.2em;padding-left: 0.2em;position: relative;}#sk-container-id-3 div.sk-item {position: relative;z-index: 1;}#sk-container-id-3 div.sk-parallel {display: flex;align-items: stretch;justify-content: center;background-color: white;position: relative;}#sk-container-id-3 div.sk-item::before, #sk-container-id-3 div.sk-parallel-item::before {content: \"\";position: absolute;border-left: 1px solid gray;box-sizing: border-box;top: 0;bottom: 0;left: 50%;z-index: -1;}#sk-container-id-3 div.sk-parallel-item {display: flex;flex-direction: column;z-index: 1;position: relative;background-color: white;}#sk-container-id-3 div.sk-parallel-item:first-child::after {align-self: flex-end;width: 50%;}#sk-container-id-3 div.sk-parallel-item:last-child::after {align-self: flex-start;width: 50%;}#sk-container-id-3 div.sk-parallel-item:only-child::after {width: 0;}#sk-container-id-3 div.sk-dashed-wrapped {border: 1px dashed gray;margin: 0 0.4em 0.5em 0.4em;box-sizing: border-box;padding-bottom: 0.4em;background-color: white;}#sk-container-id-3 div.sk-label label {font-family: monospace;font-weight: bold;display: inline-block;line-height: 1.2em;}#sk-container-id-3 div.sk-label-container {text-align: center;}#sk-container-id-3 div.sk-container {/* jupyter's `normalize.less` sets `[hidden] { display: none; }` but bootstrap.min.css set `[hidden] { display: none !important; }` so we also need the `!important` here to be able to override the default hidden behavior on the sphinx rendered scikit-learn.org. See: https://github.com/scikit-learn/scikit-learn/issues/21755 */display: inline-block !important;position: relative;}#sk-container-id-3 div.sk-text-repr-fallback {display: none;}</style><div id=\"sk-container-id-3\" class=\"sk-top-container\"><div class=\"sk-text-repr-fallback\"><pre>KNeighborsClassifier(n_neighbors=3)</pre><b>In a Jupyter environment, please rerun this cell to show the HTML representation or trust the notebook. <br />On GitHub, the HTML representation is unable to render, please try loading this page with nbviewer.org.</b></div><div class=\"sk-container\" hidden><div class=\"sk-item\"><div class=\"sk-estimator sk-toggleable\"><input class=\"sk-toggleable__control sk-hidden--visually\" id=\"sk-estimator-id-3\" type=\"checkbox\" checked><label for=\"sk-estimator-id-3\" class=\"sk-toggleable__label sk-toggleable__label-arrow\">KNeighborsClassifier</label><div class=\"sk-toggleable__content\"><pre>KNeighborsClassifier(n_neighbors=3)</pre></div></div></div></div></div>"
      ],
      "text/plain": [
       "KNeighborsClassifier(n_neighbors=3)"
      ]
     },
     "execution_count": 77,
     "metadata": {},
     "output_type": "execute_result"
    }
   ],
   "source": [
    "#5\n",
    "from sklearn.neighbors import KNeighborsClassifier\n",
    "from sklearn.model_selection import train_test_split\n",
    "\n",
    "\n",
    "\n",
    "X = data[:, :-1]\n",
    "y = data[:, -1]\n",
    "\n",
    "\n",
    "X_train, X_test, y_train, y_test = train_test_split(X, y, test_size=0.3, random_state=42)# Split data into training and testing sets\n",
    "\n",
    "neigh = KNeighborsClassifier(n_neighbors=3)# Create kNN classifier with k=3\n",
    "neigh.fit(X_train, y_train)"
   ]
  },
  {
   "cell_type": "code",
   "execution_count": 78,
   "id": "1f53de15",
   "metadata": {},
   "outputs": [
    {
     "name": "stdout",
     "output_type": "stream",
     "text": [
      "Accuracy: 0.6556556556556556\n"
     ]
    }
   ],
   "source": [
    "X = data[:, :-1]\n",
    "y = data[:, -1]\n",
    "X_train, X_test, y_train, y_test = train_test_split(X, y, test_size=0.3, random_state=42)\n",
    "neigh = KNeighborsClassifier(n_neighbors=3)\n",
    "neigh.fit(X_train, y_train)\n",
    "accuracy = neigh.score(X_test, y_test)\n",
    "print(\"Accuracy:\", accuracy)"
   ]
  },
  {
   "cell_type": "code",
   "execution_count": 79,
   "id": "7ac9e0b5",
   "metadata": {},
   "outputs": [
    {
     "name": "stdout",
     "output_type": "stream",
     "text": [
      "Predicted class labels: [3362. 3334. 3372. ... 3352. 3356. 3335.]\n"
     ]
    }
   ],
   "source": [
    "X_train, X_test, y_train, y_test = train_test_split(X, y, test_size=0.3, random_state=42)\n",
    "neigh = KNeighborsClassifier(n_neighbors=3)\n",
    "neigh.fit(X_train, y_train)\n",
    "y_pred = neigh.predict(X_test)\n",
    "print(\"Predicted class labels:\", y_pred)"
   ]
  },
  {
   "cell_type": "code",
   "execution_count": 80,
   "id": "49a46b83",
   "metadata": {},
   "outputs": [
    {
     "name": "stdout",
     "output_type": "stream",
     "text": [
      "Accuracy: 0.6786786786786787\n"
     ]
    }
   ],
   "source": [
    "X_train, X_test, y_train, y_test = train_test_split(X, y, test_size=0.2, random_state=42)\n",
    "neigh = KNeighborsClassifier(n_neighbors=5)\n",
    "neigh.fit(X_train, y_train)\n",
    "accuracy = neigh.score(X_test, y_test)\n",
    "print(\"Accuracy:\", accuracy)"
   ]
  },
  {
   "cell_type": "code",
   "execution_count": 81,
   "id": "669b0ca4",
   "metadata": {},
   "outputs": [
    {
     "name": "stdout",
     "output_type": "stream",
     "text": [
      "Features shape: (6657, 64)\n",
      "Labels shape: (6657,)\n"
     ]
    }
   ],
   "source": [
    "X = data[:, :-1]\n",
    "y = data[:, -1]\n",
    "print('Features shape:', X.shape)\n",
    "print('Labels shape:', y.shape)\n",
    "\n"
   ]
  },
  {
   "cell_type": "code",
   "execution_count": 88,
   "id": "049722ea",
   "metadata": {},
   "outputs": [
    {
     "name": "stdout",
     "output_type": "stream",
     "text": [
      "Confusion Matrix:\n",
      "[[29  1  0 ...  0  0  0]\n",
      " [ 2 27  0 ...  0  0  0]\n",
      " [ 0  2 22 ...  0  0  0]\n",
      " ...\n",
      " [ 0  0  0 ...  5  0  0]\n",
      " [ 1  0  0 ...  0  9  0]\n",
      " [ 0  0  0 ...  1  0 10]]\n",
      "Classification Report:\n",
      "              precision    recall  f1-score   support\n",
      "\n",
      "      3333.0       0.52      0.81      0.63        36\n",
      "      3334.0       0.61      0.82      0.70        33\n",
      "      3335.0       0.52      0.56      0.54        39\n",
      "      3337.0       0.70      0.68      0.69        34\n",
      "      3342.0       0.28      0.50      0.36        28\n",
      "      3343.0       0.48      0.46      0.47        26\n",
      "      3346.0       0.52      0.62      0.57        21\n",
      "      3349.0       0.67      0.70      0.69        47\n",
      "      3350.0       0.24      0.25      0.24        20\n",
      "      3351.0       0.84      0.88      0.86        43\n",
      "      3352.0       0.30      0.36      0.33        22\n",
      "      3353.0       0.86      0.83      0.84        29\n",
      "      3354.0       0.66      0.77      0.71        30\n",
      "      3355.0       0.39      0.35      0.37        20\n",
      "      3356.0       0.83      0.75      0.79        32\n",
      "      3357.0       0.71      0.56      0.63        27\n",
      "      3358.0       0.43      0.26      0.32        23\n",
      "      3359.0       1.00      0.92      0.96        49\n",
      "      3360.0       0.69      0.88      0.77        60\n",
      "      3361.0       0.98      0.90      0.94        63\n",
      "      3362.0       0.98      0.86      0.91        56\n",
      "      3363.0       0.69      0.57      0.63        47\n",
      "      3364.0       0.40      0.36      0.38        33\n",
      "      3365.0       0.74      0.67      0.70        21\n",
      "      3366.0       0.61      0.87      0.71        23\n",
      "      3367.0       0.67      0.48      0.56        21\n",
      "      3368.0       0.64      0.68      0.66        34\n",
      "      3370.0       0.88      0.54      0.67        26\n",
      "      3371.0       0.79      0.79      0.79        19\n",
      "      3372.0       0.44      0.95      0.60        19\n",
      "      3373.0       0.75      0.50      0.60        24\n",
      "      3374.0       0.59      0.42      0.49        24\n",
      "      3375.0       0.53      0.39      0.45        23\n",
      "      3376.0       0.65      0.60      0.63        25\n",
      "      3377.0       0.74      0.83      0.78        24\n",
      "      3378.0       0.88      0.47      0.61        30\n",
      "      3379.0       0.94      0.74      0.83        23\n",
      "      3380.0       1.00      0.82      0.90        17\n",
      "      3381.0       0.76      0.76      0.76        33\n",
      "      3382.0       0.64      0.69      0.67        13\n",
      "      3383.0       0.82      0.67      0.74        21\n",
      "      3384.0       0.67      0.58      0.62        24\n",
      "      3385.0       0.86      0.71      0.77        17\n",
      "      3450.0       1.00      1.00      1.00        10\n",
      "      3451.0       0.75      0.67      0.71         9\n",
      "      3452.0       0.62      0.62      0.62         8\n",
      "      3453.0       1.00      0.75      0.86        12\n",
      "      3454.0       0.91      0.71      0.80        14\n",
      "\n",
      "    accuracy                           0.68      1332\n",
      "   macro avg       0.69      0.66      0.66      1332\n",
      "weighted avg       0.70      0.68      0.68      1332\n",
      "\n"
     ]
    }
   ],
   "source": [
    "from sklearn.metrics import confusion_matrix\n",
    "X_train, X_test, y_train, y_test = train_test_split(X, y, test_size=0.2, random_state=42)\n",
    "neigh = KNeighborsClassifier(n_neighbors=5)\n",
    "neigh.fit(X_train, y_train)\n",
    "y_pred = neigh.predict(X_test)\n",
    "cm = confusion_matrix(y_test, y_pred)\n",
    "print(\"Confusion Matrix:\")\n",
    "print(cm)\n",
    "cr = classification_report(y_test, y_pred)\n",
    "print(\"Classification Report:\")\n",
    "print(cr)"
   ]
  },
  {
   "cell_type": "code",
   "execution_count": null,
   "id": "0fa4b7ac",
   "metadata": {},
   "outputs": [],
   "source": []
  }
 ],
 "metadata": {
  "kernelspec": {
   "display_name": "Python 3 (ipykernel)",
   "language": "python",
   "name": "python3"
  },
  "language_info": {
   "codemirror_mode": {
    "name": "ipython",
    "version": 3
   },
   "file_extension": ".py",
   "mimetype": "text/x-python",
   "name": "python",
   "nbconvert_exporter": "python",
   "pygments_lexer": "ipython3",
   "version": "3.11.4"
  }
 },
 "nbformat": 4,
 "nbformat_minor": 5
}
