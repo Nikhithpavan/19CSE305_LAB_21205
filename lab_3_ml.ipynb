{
 "cells": [
  {
   "cell_type": "code",
   "execution_count": 3,
   "id": "d7b05ee6",
   "metadata": {},
   "outputs": [
    {
     "name": "stdout",
     "output_type": "stream",
     "text": [
      "              0         1          2    3          4          5          6  \\\n",
      "0     27.630783  0.000000  51.067493  0.0  26.302004   0.000000   0.000000   \n",
      "1     41.934185  0.000000  57.616398  0.0  40.345722   0.000000   0.000000   \n",
      "2     59.681458  0.000000  35.450397  0.0  51.084698   0.000000   0.000000   \n",
      "3     25.652845  0.000000  42.711246  0.0  26.391441   0.000000   0.000000   \n",
      "4     51.862490  0.000000  25.455917  0.0  48.505250   0.000000   0.000000   \n",
      "...         ...       ...        ...  ...        ...        ...        ...   \n",
      "6652   0.000000  8.917019  12.606703  0.0   0.000000  23.875010   0.000000   \n",
      "6653  12.088920  3.646342  28.106102  0.0   0.000000   0.000000   0.000000   \n",
      "6654   0.000000  0.000000  53.899130  0.0   0.000000   0.000000  12.079654   \n",
      "6655   0.000000  0.000000  37.811558  0.0   0.000000   0.000000   8.555406   \n",
      "6656   0.000000  0.000000  29.105694  0.0   0.000000   8.669491  20.568624   \n",
      "\n",
      "        7    8         9  ...         55         56   57         58  \\\n",
      "0     0.0  0.0  0.000000  ...  35.563477   8.822042  0.0  18.269510   \n",
      "1     0.0  0.0  0.000000  ...  33.432617  22.573324  0.0  25.266916   \n",
      "2     0.0  0.0  4.531399  ...  17.747238  22.295591  0.0   9.600313   \n",
      "3     0.0  0.0  0.000000  ...  25.998358  12.029038  0.0  19.127953   \n",
      "4     0.0  0.0  0.000000  ...  27.024067   1.758605  0.0  17.696215   \n",
      "...   ...  ...       ...  ...        ...        ...  ...        ...   \n",
      "6652  0.0  0.0  9.403310  ...   0.000000   9.477231  0.0   0.000000   \n",
      "6653  0.0  0.0  0.000000  ...   0.000000   0.000000  0.0   0.000000   \n",
      "6654  0.0  0.0  0.000000  ...  12.388772  58.245360  0.0   0.000000   \n",
      "6655  0.0  0.0  0.000000  ...   7.663426  23.674717  0.0   0.000000   \n",
      "6656  0.0  0.0  0.000000  ...  11.354428  39.144600  0.0   0.000000   \n",
      "\n",
      "             59         60         61         62   63  class_name  \n",
      "0     82.596970   0.000000   0.000000   1.751286  0.0        3333  \n",
      "1     71.188900   0.000000   0.000000   0.000000  0.0        3333  \n",
      "2     39.380276   0.000000   0.000000  13.358544  0.0        3333  \n",
      "3     60.226376   0.000000   0.000000   0.000000  0.0        3333  \n",
      "4     64.634834   0.000000   0.000000   9.861172  0.0        3333  \n",
      "...         ...        ...        ...        ...  ...         ...  \n",
      "6652  46.723995   0.000000  20.901190   7.003646  0.0        3454  \n",
      "6653  38.677414   0.000000   1.824834   7.562943  0.0        3454  \n",
      "6654  47.787598   5.880453   0.000000   3.556168  0.0        3454  \n",
      "6655  53.260387   3.350826   0.000000   8.673196  0.0        3454  \n",
      "6656  62.376480  13.449656   0.000000  10.945368  0.0        3454  \n",
      "\n",
      "[6657 rows x 65 columns]\n"
     ]
    },
    {
     "data": {
      "text/plain": [
       "(6657, 65)"
      ]
     },
     "execution_count": 3,
     "metadata": {},
     "output_type": "execute_result"
    }
   ],
   "source": [
    "import pandas as pd\n",
    "import numpy as np\n",
    "df=pd.read_csv(\"extracted_features_charrec_dense7.csv\")\n",
    "print(df)\n",
    "df.shape\n"
   ]
  },
  {
   "cell_type": "code",
   "execution_count": 4,
   "id": "d832b576",
   "metadata": {},
   "outputs": [
    {
     "data": {
      "text/plain": [
       "113.88492503658134"
      ]
     },
     "execution_count": 4,
     "metadata": {},
     "output_type": "execute_result"
    }
   ],
   "source": [
    "np.dot(df[\"0\"],df[\"45\"])"
   ]
  },
  {
   "cell_type": "code",
   "execution_count": 5,
   "id": "008f86eb",
   "metadata": {},
   "outputs": [
    {
     "data": {
      "text/plain": [
       "2435.502005891182"
      ]
     },
     "execution_count": 5,
     "metadata": {},
     "output_type": "execute_result"
    }
   ],
   "source": [
    "np.linalg.norm(df[\"0\"])"
   ]
  },
  {
   "cell_type": "code",
   "execution_count": 6,
   "id": "8c9bc6c6",
   "metadata": {},
   "outputs": [],
   "source": [
    "class_A_data = df[df['class_name'] == 3334]\n",
    "class_B_data = df[df['class_name'] == 3335]\n"
   ]
  },
  {
   "cell_type": "code",
   "execution_count": 7,
   "id": "d3af43b0",
   "metadata": {},
   "outputs": [],
   "source": [
    "import numpy as np\n",
    "\n",
    "centroid_A = np.mean(class_A_data, axis=0)\n",
    "centroid_B = np.mean(class_B_data, axis=0)\n"
   ]
  },
  {
   "cell_type": "code",
   "execution_count": 8,
   "id": "70274b36",
   "metadata": {},
   "outputs": [
    {
     "data": {
      "text/plain": [
       "0               31.041534\n",
       "1                0.309216\n",
       "2                9.149055\n",
       "3                0.007348\n",
       "4               37.098322\n",
       "                 ...     \n",
       "60               0.015213\n",
       "61               0.098929\n",
       "62              16.328774\n",
       "63               0.000000\n",
       "class_name    3334.000000\n",
       "Length: 65, dtype: float64"
      ]
     },
     "execution_count": 8,
     "metadata": {},
     "output_type": "execute_result"
    }
   ],
   "source": [
    "centroid_A"
   ]
  },
  {
   "cell_type": "code",
   "execution_count": 9,
   "id": "bec62feb",
   "metadata": {},
   "outputs": [
    {
     "data": {
      "text/plain": [
       "0               33.954744\n",
       "1                7.803311\n",
       "2                0.929065\n",
       "3                0.000000\n",
       "4               48.753925\n",
       "                 ...     \n",
       "60               0.035407\n",
       "61               5.166118\n",
       "62              24.849326\n",
       "63               0.000000\n",
       "class_name    3335.000000\n",
       "Length: 65, dtype: float64"
      ]
     },
     "execution_count": 9,
     "metadata": {},
     "output_type": "execute_result"
    }
   ],
   "source": [
    "centroid_B"
   ]
  },
  {
   "cell_type": "code",
   "execution_count": 10,
   "id": "0e4f60f6",
   "metadata": {},
   "outputs": [],
   "source": [
    "centroid_A = np.std(class_A_data,axis=0)\n",
    "centroid_B = np.std(class_B_data,axis=0)"
   ]
  },
  {
   "cell_type": "code",
   "execution_count": 11,
   "id": "e0d03612",
   "metadata": {},
   "outputs": [
    {
     "data": {
      "text/plain": [
       "0             14.117133\n",
       "1              4.608137\n",
       "2              4.158898\n",
       "3              0.000000\n",
       "4             21.907818\n",
       "                ...    \n",
       "60             0.435084\n",
       "61             6.307505\n",
       "62            10.803543\n",
       "63             0.000000\n",
       "class_name     0.000000\n",
       "Length: 65, dtype: float64"
      ]
     },
     "execution_count": 11,
     "metadata": {},
     "output_type": "execute_result"
    }
   ],
   "source": [
    "centroid_A\n",
    "centroid_B"
   ]
  },
  {
   "cell_type": "code",
   "execution_count": 12,
   "id": "ddea2226",
   "metadata": {},
   "outputs": [
    {
     "data": {
      "text/plain": [
       "32.2593893920739"
      ]
     },
     "execution_count": 12,
     "metadata": {},
     "output_type": "execute_result"
    }
   ],
   "source": [
    "x = np.linalg.norm(centroid_A - centroid_B)\n",
    "x"
   ]
  },
  {
   "cell_type": "code",
   "execution_count": 13,
   "id": "b80c5748",
   "metadata": {},
   "outputs": [
    {
     "data": {
      "image/png": "[encoded data removed]",
      "text/plain": [
       "<Figure size 640x480 with 1 Axes>"
      ]
     },
     "metadata": {},
     "output_type": "display_data"
    }
   ],
   "source": [
    "\n",
    "import numpy as np\n",
    "import matplotlib.pyplot as plt\n",
    "\n",
    "selected_feature = df['0']\n",
    "num_bins =8\n",
    "hist, bins = np.histogram(selected_feature, bins=num_bins)\n",
    "\n",
    "plt.hist(selected_feature, bins=num_bins,  color='w', edgecolor='black')\n",
    "plt.xlabel('Value')\n",
    "plt.ylabel('Frequency')\n",
    "plt.title('Histogram of Selected Feature')\n",
    "plt.show()\n"
   ]
  },
  {
   "cell_type": "code",
   "execution_count": 14,
   "id": "7ed8d01a",
   "metadata": {},
   "outputs": [
    {
     "data": {
      "image/png": "[encoded data removed]",
      "text/plain": [
       "<Figure size 640x480 with 1 Axes>"
      ]
     },
     "metadata": {},
     "output_type": "display_data"
    }
   ],
   "source": [
    "import numpy as np\n",
    "import matplotlib.pyplot as plt\n",
    "vector1 = df.iloc[0, :]  \n",
    "vector2 = df.iloc[1, :]  \n",
    "distances = []\n",
    "r_values = list(range(1, 11))\n",
    "for r in r_values:\n",
    "    distance = np.power(np.sum(np.abs(vector1 - vector2) ** r), 1/r)\n",
    "    distances.append(distance)\n",
    "\n",
    "plt.plot(r_values, distances, marker='s', linestyle='--')\n",
    "plt.xlabel('r')\n",
    "plt.ylabel('Minkowski Distance')\n",
    "plt.title('Minkowski Distance vs. r')\n",
    "plt.grid(True)\n",
    "plt.show()\n"
   ]
  },
  {
   "cell_type": "code",
   "execution_count": 15,
   "id": "91167a8e",
   "metadata": {},
   "outputs": [],
   "source": [
    "import numpy as np\n",
    "from sklearn.model_selection import train_test_split\n",
    "X = df.iloc[:, :-1]\n",
    "y = df.iloc[:, -1]\n",
    "\n",
    "X_train, X_test, y_train, y_test = train_test_split(X, y, test_size=0.3)\n"
   ]
  },
  {
   "cell_type": "code",
   "execution_count": 16,
   "id": "3a4dca88",
   "metadata": {},
   "outputs": [
    {
     "data": {
      "text/plain": [
       "6083    3383\n",
       "788     3343\n",
       "3998    3365\n",
       "5567    3379\n",
       "1097    3349\n",
       "        ... \n",
       "1832    3354\n",
       "1492    3351\n",
       "2549    3359\n",
       "4467    3370\n",
       "2605    3359\n",
       "Name: class_name, Length: 1998, dtype: int64"
      ]
     },
     "execution_count": 16,
     "metadata": {},
     "output_type": "execute_result"
    }
   ],
   "source": [
    "y_test"
   ]
  },
  {
   "cell_type": "code",
   "execution_count": 17,
   "id": "616d7999",
   "metadata": {},
   "outputs": [
    {
     "data": {
      "text/html": [
       "<style>#sk-container-id-1 {color: black;}#sk-container-id-1 pre{padding: 0;}#sk-container-id-1 div.sk-toggleable {background-color: white;}#sk-container-id-1 label.sk-toggleable__label {cursor: pointer;display: block;width: 100%;margin-bottom: 0;padding: 0.3em;box-sizing: border-box;text-align: center;}#sk-container-id-1 label.sk-toggleable__label-arrow:before {content: \"▸\";float: left;margin-right: 0.25em;color: #696969;}#sk-container-id-1 label.sk-toggleable__label-arrow:hover:before {color: black;}#sk-container-id-1 div.sk-estimator:hover label.sk-toggleable__label-arrow:before {color: black;}#sk-container-id-1 div.sk-toggleable__content {max-height: 0;max-width: 0;overflow: hidden;text-align: left;background-color: #f0f8ff;}#sk-container-id-1 div.sk-toggleable__content pre {margin: 0.2em;color: black;border-radius: 0.25em;background-color: #f0f8ff;}#sk-container-id-1 input.sk-toggleable__control:checked~div.sk-toggleable__content {max-height: 200px;max-width: 100%;overflow: auto;}#sk-container-id-1 input.sk-toggleable__control:checked~label.sk-toggleable__label-arrow:before {content: \"▾\";}#sk-container-id-1 div.sk-estimator input.sk-toggleable__control:checked~label.sk-toggleable__label {background-color: #d4ebff;}#sk-container-id-1 div.sk-label input.sk-toggleable__control:checked~label.sk-toggleable__label {background-color: #d4ebff;}#sk-container-id-1 input.sk-hidden--visually {border: 0;clip: rect(1px 1px 1px 1px);clip: rect(1px, 1px, 1px, 1px);height: 1px;margin: -1px;overflow: hidden;padding: 0;position: absolute;width: 1px;}#sk-container-id-1 div.sk-estimator {font-family: monospace;background-color: #f0f8ff;border: 1px dotted black;border-radius: 0.25em;box-sizing: border-box;margin-bottom: 0.5em;}#sk-container-id-1 div.sk-estimator:hover {background-color: #d4ebff;}#sk-container-id-1 div.sk-parallel-item::after {content: \"\";width: 100%;border-bottom: 1px solid gray;flex-grow: 1;}#sk-container-id-1 div.sk-label:hover label.sk-toggleable__label {background-color: #d4ebff;}#sk-container-id-1 div.sk-serial::before {content: \"\";position: absolute;border-left: 1px solid gray;box-sizing: border-box;top: 0;bottom: 0;left: 50%;z-index: 0;}#sk-container-id-1 div.sk-serial {display: flex;flex-direction: column;align-items: center;background-color: white;padding-right: 0.2em;padding-left: 0.2em;position: relative;}#sk-container-id-1 div.sk-item {position: relative;z-index: 1;}#sk-container-id-1 div.sk-parallel {display: flex;align-items: stretch;justify-content: center;background-color: white;position: relative;}#sk-container-id-1 div.sk-item::before, #sk-container-id-1 div.sk-parallel-item::before {content: \"\";position: absolute;border-left: 1px solid gray;box-sizing: border-box;top: 0;bottom: 0;left: 50%;z-index: -1;}#sk-container-id-1 div.sk-parallel-item {display: flex;flex-direction: column;z-index: 1;position: relative;background-color: white;}#sk-container-id-1 div.sk-parallel-item:first-child::after {align-self: flex-end;width: 50%;}#sk-container-id-1 div.sk-parallel-item:last-child::after {align-self: flex-start;width: 50%;}#sk-container-id-1 div.sk-parallel-item:only-child::after {width: 0;}#sk-container-id-1 div.sk-dashed-wrapped {border: 1px dashed gray;margin: 0 0.4em 0.5em 0.4em;box-sizing: border-box;padding-bottom: 0.4em;background-color: white;}#sk-container-id-1 div.sk-label label {font-family: monospace;font-weight: bold;display: inline-block;line-height: 1.2em;}#sk-container-id-1 div.sk-label-container {text-align: center;}#sk-container-id-1 div.sk-container {/* jupyter's `normalize.less` sets `[hidden] { display: none; }` but bootstrap.min.css set `[hidden] { display: none !important; }` so we also need the `!important` here to be able to override the default hidden behavior on the sphinx rendered scikit-learn.org. See: https://github.com/scikit-learn/scikit-learn/issues/21755 */display: inline-block !important;position: relative;}#sk-container-id-1 div.sk-text-repr-fallback {display: none;}</style><div id=\"sk-container-id-1\" class=\"sk-top-container\"><div class=\"sk-text-repr-fallback\"><pre>KNeighborsClassifier(n_neighbors=3)</pre><b>In a Jupyter environment, please rerun this cell to show the HTML representation or trust the notebook. <br />On GitHub, the HTML representation is unable to render, please try loading this page with nbviewer.org.</b></div><div class=\"sk-container\" hidden><div class=\"sk-item\"><div class=\"sk-estimator sk-toggleable\"><input class=\"sk-toggleable__control sk-hidden--visually\" id=\"sk-estimator-id-1\" type=\"checkbox\" checked><label for=\"sk-estimator-id-1\" class=\"sk-toggleable__label sk-toggleable__label-arrow\">KNeighborsClassifier</label><div class=\"sk-toggleable__content\"><pre>KNeighborsClassifier(n_neighbors=3)</pre></div></div></div></div></div>"
      ],
      "text/plain": [
       "KNeighborsClassifier(n_neighbors=3)"
      ]
     },
     "execution_count": 17,
     "metadata": {},
     "output_type": "execute_result"
    }
   ],
   "source": [
    "import numpy as np\n",
    "from sklearn.neighbors import KNeighborsClassifier\n",
    "\n",
    "neigh = KNeighborsClassifier(n_neighbors=3)\n",
    "neigh.fit(X_train, y_train)\n",
    "#understanding use of neigh.fit it is used to understand the relationship between features and classlabels\n",
    "# and also k=3 means to set the no of neighbours to validate"
   ]
  },
  {
   "cell_type": "code",
   "execution_count": 18,
   "id": "2dc6eec1",
   "metadata": {},
   "outputs": [],
   "source": [
    "#neigh.score(X_test,y_test)\n",
    "# mowa idhi sir ni doubt adugu idhi work kavadam la "
   ]
  },
  {
   "cell_type": "code",
   "execution_count": 19,
   "id": "151b8e7e",
   "metadata": {},
   "outputs": [],
   "source": [
    "#predictions = neigh.predict(X_test)"
   ]
  },
  {
   "cell_type": "code",
   "execution_count": 65,
   "id": "bdd3377b",
   "metadata": {},
   "outputs": [
    {
     "data": {
      "text/plain": [
       "25"
      ]
     },
     "execution_count": 65,
     "metadata": {},
     "output_type": "execute_result"
    }
   ],
   "source": [
    "y_train_new = np.argmax(y_train, axis=0)\n",
    "y_train_new\n",
    "y_train_new = np.around(y_train_new)\n",
    "y_train_new"
   ]
  },
  {
   "cell_type": "code",
   "execution_count": 66,
   "id": "c8bd2f24",
   "metadata": {},
   "outputs": [
    {
     "data": {
      "text/plain": [
       "2"
      ]
     },
     "execution_count": 66,
     "metadata": {},
     "output_type": "execute_result"
    }
   ],
   "source": [
    "y_test_new = np.argmax(y_test, axis=0)\n",
    "y_test_new\n",
    "y_test_new = np.around(y_test_new)\n",
    "y_test_new"
   ]
  },
  {
   "cell_type": "code",
   "execution_count": 67,
   "id": "98b34c87",
   "metadata": {},
   "outputs": [
    {
     "ename": "InvalidParameterError",
     "evalue": "The 'y_pred' parameter of confusion_matrix must be an array-like. Got 25 instead.",
     "output_type": "error",
     "traceback": [
      "\u001b[1;31m---------------------------------------------------------------------------\u001b[0m",
      "\u001b[1;31mInvalidParameterError\u001b[0m                     Traceback (most recent call last)",
      "Cell \u001b[1;32mIn[67], line 2\u001b[0m\n\u001b[0;32m      1\u001b[0m \u001b[38;5;28;01mfrom\u001b[39;00m \u001b[38;5;21;01msklearn\u001b[39;00m\u001b[38;5;21;01m.\u001b[39;00m\u001b[38;5;21;01mmetrics\u001b[39;00m \u001b[38;5;28;01mimport\u001b[39;00m confusion_matrix, precision_score, recall_score, f1_score\n\u001b[1;32m----> 2\u001b[0m confusion_matrix_train \u001b[38;5;241m=\u001b[39m confusion_matrix(X_train, y_train_new)\n\u001b[0;32m      3\u001b[0m confusion_matrix_test \u001b[38;5;241m=\u001b[39m confusion_matrix(X_test, y_test_new)\n\u001b[0;32m      4\u001b[0m confusion_matrix_train\n",
      "File \u001b[1;32m~\\anaconda3\\Lib\\site-packages\\sklearn\\utils\\_param_validation.py:201\u001b[0m, in \u001b[0;36mvalidate_params.<locals>.decorator.<locals>.wrapper\u001b[1;34m(*args, **kwargs)\u001b[0m\n\u001b[0;32m    198\u001b[0m to_ignore \u001b[38;5;241m+\u001b[39m\u001b[38;5;241m=\u001b[39m [\u001b[38;5;124m\"\u001b[39m\u001b[38;5;124mself\u001b[39m\u001b[38;5;124m\"\u001b[39m, \u001b[38;5;124m\"\u001b[39m\u001b[38;5;124mcls\u001b[39m\u001b[38;5;124m\"\u001b[39m]\n\u001b[0;32m    199\u001b[0m params \u001b[38;5;241m=\u001b[39m {k: v \u001b[38;5;28;01mfor\u001b[39;00m k, v \u001b[38;5;129;01min\u001b[39;00m params\u001b[38;5;241m.\u001b[39marguments\u001b[38;5;241m.\u001b[39mitems() \u001b[38;5;28;01mif\u001b[39;00m k \u001b[38;5;129;01mnot\u001b[39;00m \u001b[38;5;129;01min\u001b[39;00m to_ignore}\n\u001b[1;32m--> 201\u001b[0m validate_parameter_constraints(\n\u001b[0;32m    202\u001b[0m     parameter_constraints, params, caller_name\u001b[38;5;241m=\u001b[39mfunc\u001b[38;5;241m.\u001b[39m\u001b[38;5;18m__qualname__\u001b[39m\n\u001b[0;32m    203\u001b[0m )\n\u001b[0;32m    205\u001b[0m \u001b[38;5;28;01mtry\u001b[39;00m:\n\u001b[0;32m    206\u001b[0m     \u001b[38;5;28;01mwith\u001b[39;00m config_context(\n\u001b[0;32m    207\u001b[0m         skip_parameter_validation\u001b[38;5;241m=\u001b[39m(\n\u001b[0;32m    208\u001b[0m             prefer_skip_nested_validation \u001b[38;5;129;01mor\u001b[39;00m global_skip_validation\n\u001b[0;32m    209\u001b[0m         )\n\u001b[0;32m    210\u001b[0m     ):\n",
      "File \u001b[1;32m~\\anaconda3\\Lib\\site-packages\\sklearn\\utils\\_param_validation.py:95\u001b[0m, in \u001b[0;36mvalidate_parameter_constraints\u001b[1;34m(parameter_constraints, params, caller_name)\u001b[0m\n\u001b[0;32m     89\u001b[0m \u001b[38;5;28;01melse\u001b[39;00m:\n\u001b[0;32m     90\u001b[0m     constraints_str \u001b[38;5;241m=\u001b[39m (\n\u001b[0;32m     91\u001b[0m         \u001b[38;5;124mf\u001b[39m\u001b[38;5;124m\"\u001b[39m\u001b[38;5;132;01m{\u001b[39;00m\u001b[38;5;124m'\u001b[39m\u001b[38;5;124m, \u001b[39m\u001b[38;5;124m'\u001b[39m\u001b[38;5;241m.\u001b[39mjoin([\u001b[38;5;28mstr\u001b[39m(c)\u001b[38;5;250m \u001b[39m\u001b[38;5;28;01mfor\u001b[39;00m\u001b[38;5;250m \u001b[39mc\u001b[38;5;250m \u001b[39m\u001b[38;5;129;01min\u001b[39;00m\u001b[38;5;250m \u001b[39mconstraints[:\u001b[38;5;241m-\u001b[39m\u001b[38;5;241m1\u001b[39m]])\u001b[38;5;132;01m}\u001b[39;00m\u001b[38;5;124m or\u001b[39m\u001b[38;5;124m\"\u001b[39m\n\u001b[0;32m     92\u001b[0m         \u001b[38;5;124mf\u001b[39m\u001b[38;5;124m\"\u001b[39m\u001b[38;5;124m \u001b[39m\u001b[38;5;132;01m{\u001b[39;00mconstraints[\u001b[38;5;241m-\u001b[39m\u001b[38;5;241m1\u001b[39m]\u001b[38;5;132;01m}\u001b[39;00m\u001b[38;5;124m\"\u001b[39m\n\u001b[0;32m     93\u001b[0m     )\n\u001b[1;32m---> 95\u001b[0m \u001b[38;5;28;01mraise\u001b[39;00m InvalidParameterError(\n\u001b[0;32m     96\u001b[0m     \u001b[38;5;124mf\u001b[39m\u001b[38;5;124m\"\u001b[39m\u001b[38;5;124mThe \u001b[39m\u001b[38;5;132;01m{\u001b[39;00mparam_name\u001b[38;5;132;01m!r}\u001b[39;00m\u001b[38;5;124m parameter of \u001b[39m\u001b[38;5;132;01m{\u001b[39;00mcaller_name\u001b[38;5;132;01m}\u001b[39;00m\u001b[38;5;124m must be\u001b[39m\u001b[38;5;124m\"\u001b[39m\n\u001b[0;32m     97\u001b[0m     \u001b[38;5;124mf\u001b[39m\u001b[38;5;124m\"\u001b[39m\u001b[38;5;124m \u001b[39m\u001b[38;5;132;01m{\u001b[39;00mconstraints_str\u001b[38;5;132;01m}\u001b[39;00m\u001b[38;5;124m. Got \u001b[39m\u001b[38;5;132;01m{\u001b[39;00mparam_val\u001b[38;5;132;01m!r}\u001b[39;00m\u001b[38;5;124m instead.\u001b[39m\u001b[38;5;124m\"\u001b[39m\n\u001b[0;32m     98\u001b[0m )\n",
      "\u001b[1;31mInvalidParameterError\u001b[0m: The 'y_pred' parameter of confusion_matrix must be an array-like. Got 25 instead."
     ]
    }
   ],
   "source": [
    "from sklearn.metrics import confusion_matrix, precision_score, recall_score, f1_score\n",
    "confusion_matrix_train = confusion_matrix(X_train, y_train_new)\n",
    "confusion_matrix_test = confusion_matrix(X_test, y_test_new)\n",
    "confusion_matrix_train\n"
   ]
  },
  {
   "cell_type": "code",
   "execution_count": 50,
   "id": "955efe0d",
   "metadata": {},
   "outputs": [
    {
     "ename": "ValueError",
     "evalue": "Classification metrics can't handle a mix of continuous-multioutput and multiclass targets",
     "output_type": "error",
     "traceback": [
      "\u001b[1;31m---------------------------------------------------------------------------\u001b[0m",
      "\u001b[1;31mValueError\u001b[0m                                Traceback (most recent call last)",
      "Cell \u001b[1;32mIn[50], line 1\u001b[0m\n\u001b[1;32m----> 1\u001b[0m precision_train \u001b[38;5;241m=\u001b[39m precision_score(X_train, y_train)\n\u001b[0;32m      2\u001b[0m recall_train \u001b[38;5;241m=\u001b[39m recall_score(X_train, y_train)\n\u001b[0;32m      3\u001b[0m f1_score_train \u001b[38;5;241m=\u001b[39m f1_score(X_train, y_train)\n",
      "File \u001b[1;32m~\\anaconda3\\Lib\\site-packages\\sklearn\\utils\\_param_validation.py:211\u001b[0m, in \u001b[0;36mvalidate_params.<locals>.decorator.<locals>.wrapper\u001b[1;34m(*args, **kwargs)\u001b[0m\n\u001b[0;32m    205\u001b[0m \u001b[38;5;28;01mtry\u001b[39;00m:\n\u001b[0;32m    206\u001b[0m     \u001b[38;5;28;01mwith\u001b[39;00m config_context(\n\u001b[0;32m    207\u001b[0m         skip_parameter_validation\u001b[38;5;241m=\u001b[39m(\n\u001b[0;32m    208\u001b[0m             prefer_skip_nested_validation \u001b[38;5;129;01mor\u001b[39;00m global_skip_validation\n\u001b[0;32m    209\u001b[0m         )\n\u001b[0;32m    210\u001b[0m     ):\n\u001b[1;32m--> 211\u001b[0m         \u001b[38;5;28;01mreturn\u001b[39;00m func(\u001b[38;5;241m*\u001b[39margs, \u001b[38;5;241m*\u001b[39m\u001b[38;5;241m*\u001b[39mkwargs)\n\u001b[0;32m    212\u001b[0m \u001b[38;5;28;01mexcept\u001b[39;00m InvalidParameterError \u001b[38;5;28;01mas\u001b[39;00m e:\n\u001b[0;32m    213\u001b[0m     \u001b[38;5;66;03m# When the function is just a wrapper around an estimator, we allow\u001b[39;00m\n\u001b[0;32m    214\u001b[0m     \u001b[38;5;66;03m# the function to delegate validation to the estimator, but we replace\u001b[39;00m\n\u001b[0;32m    215\u001b[0m     \u001b[38;5;66;03m# the name of the estimator by the name of the function in the error\u001b[39;00m\n\u001b[0;32m    216\u001b[0m     \u001b[38;5;66;03m# message to avoid confusion.\u001b[39;00m\n\u001b[0;32m    217\u001b[0m     msg \u001b[38;5;241m=\u001b[39m re\u001b[38;5;241m.\u001b[39msub(\n\u001b[0;32m    218\u001b[0m         \u001b[38;5;124mr\u001b[39m\u001b[38;5;124m\"\u001b[39m\u001b[38;5;124mparameter of \u001b[39m\u001b[38;5;124m\\\u001b[39m\u001b[38;5;124mw+ must be\u001b[39m\u001b[38;5;124m\"\u001b[39m,\n\u001b[0;32m    219\u001b[0m         \u001b[38;5;124mf\u001b[39m\u001b[38;5;124m\"\u001b[39m\u001b[38;5;124mparameter of \u001b[39m\u001b[38;5;132;01m{\u001b[39;00mfunc\u001b[38;5;241m.\u001b[39m\u001b[38;5;18m__qualname__\u001b[39m\u001b[38;5;132;01m}\u001b[39;00m\u001b[38;5;124m must be\u001b[39m\u001b[38;5;124m\"\u001b[39m,\n\u001b[0;32m    220\u001b[0m         \u001b[38;5;28mstr\u001b[39m(e),\n\u001b[0;32m    221\u001b[0m     )\n",
      "File \u001b[1;32m~\\anaconda3\\Lib\\site-packages\\sklearn\\metrics\\_classification.py:2127\u001b[0m, in \u001b[0;36mprecision_score\u001b[1;34m(y_true, y_pred, labels, pos_label, average, sample_weight, zero_division)\u001b[0m\n\u001b[0;32m   1970\u001b[0m \u001b[38;5;129m@validate_params\u001b[39m(\n\u001b[0;32m   1971\u001b[0m     {\n\u001b[0;32m   1972\u001b[0m         \u001b[38;5;124m\"\u001b[39m\u001b[38;5;124my_true\u001b[39m\u001b[38;5;124m\"\u001b[39m: [\u001b[38;5;124m\"\u001b[39m\u001b[38;5;124marray-like\u001b[39m\u001b[38;5;124m\"\u001b[39m, \u001b[38;5;124m\"\u001b[39m\u001b[38;5;124msparse matrix\u001b[39m\u001b[38;5;124m\"\u001b[39m],\n\u001b[1;32m   (...)\u001b[0m\n\u001b[0;32m   1996\u001b[0m     zero_division\u001b[38;5;241m=\u001b[39m\u001b[38;5;124m\"\u001b[39m\u001b[38;5;124mwarn\u001b[39m\u001b[38;5;124m\"\u001b[39m,\n\u001b[0;32m   1997\u001b[0m ):\n\u001b[0;32m   1998\u001b[0m \u001b[38;5;250m    \u001b[39m\u001b[38;5;124;03m\"\"\"Compute the precision.\u001b[39;00m\n\u001b[0;32m   1999\u001b[0m \n\u001b[0;32m   2000\u001b[0m \u001b[38;5;124;03m    The precision is the ratio ``tp / (tp + fp)`` where ``tp`` is the number of\u001b[39;00m\n\u001b[1;32m   (...)\u001b[0m\n\u001b[0;32m   2125\u001b[0m \u001b[38;5;124;03m    array([0.5, 1. , 1. ])\u001b[39;00m\n\u001b[0;32m   2126\u001b[0m \u001b[38;5;124;03m    \"\"\"\u001b[39;00m\n\u001b[1;32m-> 2127\u001b[0m     p, _, _, _ \u001b[38;5;241m=\u001b[39m precision_recall_fscore_support(\n\u001b[0;32m   2128\u001b[0m         y_true,\n\u001b[0;32m   2129\u001b[0m         y_pred,\n\u001b[0;32m   2130\u001b[0m         labels\u001b[38;5;241m=\u001b[39mlabels,\n\u001b[0;32m   2131\u001b[0m         pos_label\u001b[38;5;241m=\u001b[39mpos_label,\n\u001b[0;32m   2132\u001b[0m         average\u001b[38;5;241m=\u001b[39maverage,\n\u001b[0;32m   2133\u001b[0m         warn_for\u001b[38;5;241m=\u001b[39m(\u001b[38;5;124m\"\u001b[39m\u001b[38;5;124mprecision\u001b[39m\u001b[38;5;124m\"\u001b[39m,),\n\u001b[0;32m   2134\u001b[0m         sample_weight\u001b[38;5;241m=\u001b[39msample_weight,\n\u001b[0;32m   2135\u001b[0m         zero_division\u001b[38;5;241m=\u001b[39mzero_division,\n\u001b[0;32m   2136\u001b[0m     )\n\u001b[0;32m   2137\u001b[0m     \u001b[38;5;28;01mreturn\u001b[39;00m p\n",
      "File \u001b[1;32m~\\anaconda3\\Lib\\site-packages\\sklearn\\utils\\_param_validation.py:184\u001b[0m, in \u001b[0;36mvalidate_params.<locals>.decorator.<locals>.wrapper\u001b[1;34m(*args, **kwargs)\u001b[0m\n\u001b[0;32m    182\u001b[0m global_skip_validation \u001b[38;5;241m=\u001b[39m get_config()[\u001b[38;5;124m\"\u001b[39m\u001b[38;5;124mskip_parameter_validation\u001b[39m\u001b[38;5;124m\"\u001b[39m]\n\u001b[0;32m    183\u001b[0m \u001b[38;5;28;01mif\u001b[39;00m global_skip_validation:\n\u001b[1;32m--> 184\u001b[0m     \u001b[38;5;28;01mreturn\u001b[39;00m func(\u001b[38;5;241m*\u001b[39margs, \u001b[38;5;241m*\u001b[39m\u001b[38;5;241m*\u001b[39mkwargs)\n\u001b[0;32m    186\u001b[0m func_sig \u001b[38;5;241m=\u001b[39m signature(func)\n\u001b[0;32m    188\u001b[0m \u001b[38;5;66;03m# Map *args/**kwargs to the function signature\u001b[39;00m\n",
      "File \u001b[1;32m~\\anaconda3\\Lib\\site-packages\\sklearn\\metrics\\_classification.py:1721\u001b[0m, in \u001b[0;36mprecision_recall_fscore_support\u001b[1;34m(y_true, y_pred, beta, labels, pos_label, average, warn_for, sample_weight, zero_division)\u001b[0m\n\u001b[0;32m   1563\u001b[0m \u001b[38;5;250m\u001b[39m\u001b[38;5;124;03m\"\"\"Compute precision, recall, F-measure and support for each class.\u001b[39;00m\n\u001b[0;32m   1564\u001b[0m \n\u001b[0;32m   1565\u001b[0m \u001b[38;5;124;03mThe precision is the ratio ``tp / (tp + fp)`` where ``tp`` is the number of\u001b[39;00m\n\u001b[1;32m   (...)\u001b[0m\n\u001b[0;32m   1718\u001b[0m \u001b[38;5;124;03m array([2, 2, 2]))\u001b[39;00m\n\u001b[0;32m   1719\u001b[0m \u001b[38;5;124;03m\"\"\"\u001b[39;00m\n\u001b[0;32m   1720\u001b[0m zero_division_value \u001b[38;5;241m=\u001b[39m _check_zero_division(zero_division)\n\u001b[1;32m-> 1721\u001b[0m labels \u001b[38;5;241m=\u001b[39m _check_set_wise_labels(y_true, y_pred, average, labels, pos_label)\n\u001b[0;32m   1723\u001b[0m \u001b[38;5;66;03m# Calculate tp_sum, pred_sum, true_sum ###\u001b[39;00m\n\u001b[0;32m   1724\u001b[0m samplewise \u001b[38;5;241m=\u001b[39m average \u001b[38;5;241m==\u001b[39m \u001b[38;5;124m\"\u001b[39m\u001b[38;5;124msamples\u001b[39m\u001b[38;5;124m\"\u001b[39m\n",
      "File \u001b[1;32m~\\anaconda3\\Lib\\site-packages\\sklearn\\metrics\\_classification.py:1499\u001b[0m, in \u001b[0;36m_check_set_wise_labels\u001b[1;34m(y_true, y_pred, average, labels, pos_label)\u001b[0m\n\u001b[0;32m   1496\u001b[0m \u001b[38;5;28;01mif\u001b[39;00m average \u001b[38;5;129;01mnot\u001b[39;00m \u001b[38;5;129;01min\u001b[39;00m average_options \u001b[38;5;129;01mand\u001b[39;00m average \u001b[38;5;241m!=\u001b[39m \u001b[38;5;124m\"\u001b[39m\u001b[38;5;124mbinary\u001b[39m\u001b[38;5;124m\"\u001b[39m:\n\u001b[0;32m   1497\u001b[0m     \u001b[38;5;28;01mraise\u001b[39;00m \u001b[38;5;167;01mValueError\u001b[39;00m(\u001b[38;5;124m\"\u001b[39m\u001b[38;5;124maverage has to be one of \u001b[39m\u001b[38;5;124m\"\u001b[39m \u001b[38;5;241m+\u001b[39m \u001b[38;5;28mstr\u001b[39m(average_options))\n\u001b[1;32m-> 1499\u001b[0m y_type, y_true, y_pred \u001b[38;5;241m=\u001b[39m _check_targets(y_true, y_pred)\n\u001b[0;32m   1500\u001b[0m \u001b[38;5;66;03m# Convert to Python primitive type to avoid NumPy type / Python str\u001b[39;00m\n\u001b[0;32m   1501\u001b[0m \u001b[38;5;66;03m# comparison. See https://github.com/numpy/numpy/issues/6784\u001b[39;00m\n\u001b[0;32m   1502\u001b[0m present_labels \u001b[38;5;241m=\u001b[39m unique_labels(y_true, y_pred)\u001b[38;5;241m.\u001b[39mtolist()\n",
      "File \u001b[1;32m~\\anaconda3\\Lib\\site-packages\\sklearn\\metrics\\_classification.py:93\u001b[0m, in \u001b[0;36m_check_targets\u001b[1;34m(y_true, y_pred)\u001b[0m\n\u001b[0;32m     90\u001b[0m     y_type \u001b[38;5;241m=\u001b[39m {\u001b[38;5;124m\"\u001b[39m\u001b[38;5;124mmulticlass\u001b[39m\u001b[38;5;124m\"\u001b[39m}\n\u001b[0;32m     92\u001b[0m \u001b[38;5;28;01mif\u001b[39;00m \u001b[38;5;28mlen\u001b[39m(y_type) \u001b[38;5;241m>\u001b[39m \u001b[38;5;241m1\u001b[39m:\n\u001b[1;32m---> 93\u001b[0m     \u001b[38;5;28;01mraise\u001b[39;00m \u001b[38;5;167;01mValueError\u001b[39;00m(\n\u001b[0;32m     94\u001b[0m         \u001b[38;5;124m\"\u001b[39m\u001b[38;5;124mClassification metrics can\u001b[39m\u001b[38;5;124m'\u001b[39m\u001b[38;5;124mt handle a mix of \u001b[39m\u001b[38;5;132;01m{0}\u001b[39;00m\u001b[38;5;124m and \u001b[39m\u001b[38;5;132;01m{1}\u001b[39;00m\u001b[38;5;124m targets\u001b[39m\u001b[38;5;124m\"\u001b[39m\u001b[38;5;241m.\u001b[39mformat(\n\u001b[0;32m     95\u001b[0m             type_true, type_pred\n\u001b[0;32m     96\u001b[0m         )\n\u001b[0;32m     97\u001b[0m     )\n\u001b[0;32m     99\u001b[0m \u001b[38;5;66;03m# We can't have more than one value on y_type => The set is no more needed\u001b[39;00m\n\u001b[0;32m    100\u001b[0m y_type \u001b[38;5;241m=\u001b[39m y_type\u001b[38;5;241m.\u001b[39mpop()\n",
      "\u001b[1;31mValueError\u001b[0m: Classification metrics can't handle a mix of continuous-multioutput and multiclass targets"
     ]
    }
   ],
   "source": [
    "precision_train = precision_score(X_train, y_train)\n",
    "recall_train = recall_score(X_train, y_train)\n",
    "f1_score_train = f1_score(X_train, y_train)"
   ]
  },
  {
   "cell_type": "code",
   "execution_count": null,
   "id": "7a382489",
   "metadata": {},
   "outputs": [],
   "source": [
    "precision_test = precision_score(y_true_test, y_pred_test)\n",
    "recall_test = recall_score(y_true_test, y_pred_test)\n",
    "f1_score_test = f1_score(y_true_test, y_pred_test)"
   ]
  },
  {
   "cell_type": "code",
   "execution_count": 27,
   "id": "d59bc836",
   "metadata": {},
   "outputs": [
    {
     "data": {
      "text/html": [
       "<div>\n",
       "<style scoped>\n",
       "    .dataframe tbody tr th:only-of-type {\n",
       "        vertical-align: middle;\n",
       "    }\n",
       "\n",
       "    .dataframe tbody tr th {\n",
       "        vertical-align: top;\n",
       "    }\n",
       "\n",
       "    .dataframe thead th {\n",
       "        text-align: right;\n",
       "    }\n",
       "</style>\n",
       "<table border=\"1\" class=\"dataframe\">\n",
       "  <thead>\n",
       "    <tr style=\"text-align: right;\">\n",
       "      <th></th>\n",
       "      <th>0</th>\n",
       "      <th>1</th>\n",
       "      <th>2</th>\n",
       "      <th>3</th>\n",
       "      <th>4</th>\n",
       "      <th>5</th>\n",
       "      <th>6</th>\n",
       "      <th>7</th>\n",
       "      <th>8</th>\n",
       "      <th>9</th>\n",
       "      <th>...</th>\n",
       "      <th>55</th>\n",
       "      <th>56</th>\n",
       "      <th>57</th>\n",
       "      <th>58</th>\n",
       "      <th>59</th>\n",
       "      <th>60</th>\n",
       "      <th>61</th>\n",
       "      <th>62</th>\n",
       "      <th>63</th>\n",
       "      <th>class_name</th>\n",
       "    </tr>\n",
       "  </thead>\n",
       "  <tbody>\n",
       "    <tr>\n",
       "      <th>0</th>\n",
       "      <td>27.630783</td>\n",
       "      <td>0.000000</td>\n",
       "      <td>51.067493</td>\n",
       "      <td>0.0</td>\n",
       "      <td>26.302004</td>\n",
       "      <td>0.000000</td>\n",
       "      <td>0.000000</td>\n",
       "      <td>0.0</td>\n",
       "      <td>0.0</td>\n",
       "      <td>0.000000</td>\n",
       "      <td>...</td>\n",
       "      <td>35.563477</td>\n",
       "      <td>8.822042</td>\n",
       "      <td>0.0</td>\n",
       "      <td>18.269510</td>\n",
       "      <td>82.596970</td>\n",
       "      <td>0.000000</td>\n",
       "      <td>0.000000</td>\n",
       "      <td>1.751286</td>\n",
       "      <td>0.0</td>\n",
       "      <td>3333</td>\n",
       "    </tr>\n",
       "    <tr>\n",
       "      <th>1</th>\n",
       "      <td>41.934185</td>\n",
       "      <td>0.000000</td>\n",
       "      <td>57.616398</td>\n",
       "      <td>0.0</td>\n",
       "      <td>40.345722</td>\n",
       "      <td>0.000000</td>\n",
       "      <td>0.000000</td>\n",
       "      <td>0.0</td>\n",
       "      <td>0.0</td>\n",
       "      <td>0.000000</td>\n",
       "      <td>...</td>\n",
       "      <td>33.432617</td>\n",
       "      <td>22.573324</td>\n",
       "      <td>0.0</td>\n",
       "      <td>25.266916</td>\n",
       "      <td>71.188900</td>\n",
       "      <td>0.000000</td>\n",
       "      <td>0.000000</td>\n",
       "      <td>0.000000</td>\n",
       "      <td>0.0</td>\n",
       "      <td>3333</td>\n",
       "    </tr>\n",
       "    <tr>\n",
       "      <th>2</th>\n",
       "      <td>59.681458</td>\n",
       "      <td>0.000000</td>\n",
       "      <td>35.450397</td>\n",
       "      <td>0.0</td>\n",
       "      <td>51.084698</td>\n",
       "      <td>0.000000</td>\n",
       "      <td>0.000000</td>\n",
       "      <td>0.0</td>\n",
       "      <td>0.0</td>\n",
       "      <td>4.531399</td>\n",
       "      <td>...</td>\n",
       "      <td>17.747238</td>\n",
       "      <td>22.295591</td>\n",
       "      <td>0.0</td>\n",
       "      <td>9.600313</td>\n",
       "      <td>39.380276</td>\n",
       "      <td>0.000000</td>\n",
       "      <td>0.000000</td>\n",
       "      <td>13.358544</td>\n",
       "      <td>0.0</td>\n",
       "      <td>3333</td>\n",
       "    </tr>\n",
       "    <tr>\n",
       "      <th>3</th>\n",
       "      <td>25.652845</td>\n",
       "      <td>0.000000</td>\n",
       "      <td>42.711246</td>\n",
       "      <td>0.0</td>\n",
       "      <td>26.391441</td>\n",
       "      <td>0.000000</td>\n",
       "      <td>0.000000</td>\n",
       "      <td>0.0</td>\n",
       "      <td>0.0</td>\n",
       "      <td>0.000000</td>\n",
       "      <td>...</td>\n",
       "      <td>25.998358</td>\n",
       "      <td>12.029038</td>\n",
       "      <td>0.0</td>\n",
       "      <td>19.127953</td>\n",
       "      <td>60.226376</td>\n",
       "      <td>0.000000</td>\n",
       "      <td>0.000000</td>\n",
       "      <td>0.000000</td>\n",
       "      <td>0.0</td>\n",
       "      <td>3333</td>\n",
       "    </tr>\n",
       "    <tr>\n",
       "      <th>4</th>\n",
       "      <td>51.862490</td>\n",
       "      <td>0.000000</td>\n",
       "      <td>25.455917</td>\n",
       "      <td>0.0</td>\n",
       "      <td>48.505250</td>\n",
       "      <td>0.000000</td>\n",
       "      <td>0.000000</td>\n",
       "      <td>0.0</td>\n",
       "      <td>0.0</td>\n",
       "      <td>0.000000</td>\n",
       "      <td>...</td>\n",
       "      <td>27.024067</td>\n",
       "      <td>1.758605</td>\n",
       "      <td>0.0</td>\n",
       "      <td>17.696215</td>\n",
       "      <td>64.634834</td>\n",
       "      <td>0.000000</td>\n",
       "      <td>0.000000</td>\n",
       "      <td>9.861172</td>\n",
       "      <td>0.0</td>\n",
       "      <td>3333</td>\n",
       "    </tr>\n",
       "    <tr>\n",
       "      <th>...</th>\n",
       "      <td>...</td>\n",
       "      <td>...</td>\n",
       "      <td>...</td>\n",
       "      <td>...</td>\n",
       "      <td>...</td>\n",
       "      <td>...</td>\n",
       "      <td>...</td>\n",
       "      <td>...</td>\n",
       "      <td>...</td>\n",
       "      <td>...</td>\n",
       "      <td>...</td>\n",
       "      <td>...</td>\n",
       "      <td>...</td>\n",
       "      <td>...</td>\n",
       "      <td>...</td>\n",
       "      <td>...</td>\n",
       "      <td>...</td>\n",
       "      <td>...</td>\n",
       "      <td>...</td>\n",
       "      <td>...</td>\n",
       "      <td>...</td>\n",
       "    </tr>\n",
       "    <tr>\n",
       "      <th>6652</th>\n",
       "      <td>0.000000</td>\n",
       "      <td>8.917019</td>\n",
       "      <td>12.606703</td>\n",
       "      <td>0.0</td>\n",
       "      <td>0.000000</td>\n",
       "      <td>23.875010</td>\n",
       "      <td>0.000000</td>\n",
       "      <td>0.0</td>\n",
       "      <td>0.0</td>\n",
       "      <td>9.403310</td>\n",
       "      <td>...</td>\n",
       "      <td>0.000000</td>\n",
       "      <td>9.477231</td>\n",
       "      <td>0.0</td>\n",
       "      <td>0.000000</td>\n",
       "      <td>46.723995</td>\n",
       "      <td>0.000000</td>\n",
       "      <td>20.901190</td>\n",
       "      <td>7.003646</td>\n",
       "      <td>0.0</td>\n",
       "      <td>3454</td>\n",
       "    </tr>\n",
       "    <tr>\n",
       "      <th>6653</th>\n",
       "      <td>12.088920</td>\n",
       "      <td>3.646342</td>\n",
       "      <td>28.106102</td>\n",
       "      <td>0.0</td>\n",
       "      <td>0.000000</td>\n",
       "      <td>0.000000</td>\n",
       "      <td>0.000000</td>\n",
       "      <td>0.0</td>\n",
       "      <td>0.0</td>\n",
       "      <td>0.000000</td>\n",
       "      <td>...</td>\n",
       "      <td>0.000000</td>\n",
       "      <td>0.000000</td>\n",
       "      <td>0.0</td>\n",
       "      <td>0.000000</td>\n",
       "      <td>38.677414</td>\n",
       "      <td>0.000000</td>\n",
       "      <td>1.824834</td>\n",
       "      <td>7.562943</td>\n",
       "      <td>0.0</td>\n",
       "      <td>3454</td>\n",
       "    </tr>\n",
       "    <tr>\n",
       "      <th>6654</th>\n",
       "      <td>0.000000</td>\n",
       "      <td>0.000000</td>\n",
       "      <td>53.899130</td>\n",
       "      <td>0.0</td>\n",
       "      <td>0.000000</td>\n",
       "      <td>0.000000</td>\n",
       "      <td>12.079654</td>\n",
       "      <td>0.0</td>\n",
       "      <td>0.0</td>\n",
       "      <td>0.000000</td>\n",
       "      <td>...</td>\n",
       "      <td>12.388772</td>\n",
       "      <td>58.245360</td>\n",
       "      <td>0.0</td>\n",
       "      <td>0.000000</td>\n",
       "      <td>47.787598</td>\n",
       "      <td>5.880453</td>\n",
       "      <td>0.000000</td>\n",
       "      <td>3.556168</td>\n",
       "      <td>0.0</td>\n",
       "      <td>3454</td>\n",
       "    </tr>\n",
       "    <tr>\n",
       "      <th>6655</th>\n",
       "      <td>0.000000</td>\n",
       "      <td>0.000000</td>\n",
       "      <td>37.811558</td>\n",
       "      <td>0.0</td>\n",
       "      <td>0.000000</td>\n",
       "      <td>0.000000</td>\n",
       "      <td>8.555406</td>\n",
       "      <td>0.0</td>\n",
       "      <td>0.0</td>\n",
       "      <td>0.000000</td>\n",
       "      <td>...</td>\n",
       "      <td>7.663426</td>\n",
       "      <td>23.674717</td>\n",
       "      <td>0.0</td>\n",
       "      <td>0.000000</td>\n",
       "      <td>53.260387</td>\n",
       "      <td>3.350826</td>\n",
       "      <td>0.000000</td>\n",
       "      <td>8.673196</td>\n",
       "      <td>0.0</td>\n",
       "      <td>3454</td>\n",
       "    </tr>\n",
       "    <tr>\n",
       "      <th>6656</th>\n",
       "      <td>0.000000</td>\n",
       "      <td>0.000000</td>\n",
       "      <td>29.105694</td>\n",
       "      <td>0.0</td>\n",
       "      <td>0.000000</td>\n",
       "      <td>8.669491</td>\n",
       "      <td>20.568624</td>\n",
       "      <td>0.0</td>\n",
       "      <td>0.0</td>\n",
       "      <td>0.000000</td>\n",
       "      <td>...</td>\n",
       "      <td>11.354428</td>\n",
       "      <td>39.144600</td>\n",
       "      <td>0.0</td>\n",
       "      <td>0.000000</td>\n",
       "      <td>62.376480</td>\n",
       "      <td>13.449656</td>\n",
       "      <td>0.000000</td>\n",
       "      <td>10.945368</td>\n",
       "      <td>0.0</td>\n",
       "      <td>3454</td>\n",
       "    </tr>\n",
       "  </tbody>\n",
       "</table>\n",
       "<p>6657 rows × 65 columns</p>\n",
       "</div>"
      ],
      "text/plain": [
       "              0         1          2    3          4          5          6  \\\n",
       "0     27.630783  0.000000  51.067493  0.0  26.302004   0.000000   0.000000   \n",
       "1     41.934185  0.000000  57.616398  0.0  40.345722   0.000000   0.000000   \n",
       "2     59.681458  0.000000  35.450397  0.0  51.084698   0.000000   0.000000   \n",
       "3     25.652845  0.000000  42.711246  0.0  26.391441   0.000000   0.000000   \n",
       "4     51.862490  0.000000  25.455917  0.0  48.505250   0.000000   0.000000   \n",
       "...         ...       ...        ...  ...        ...        ...        ...   \n",
       "6652   0.000000  8.917019  12.606703  0.0   0.000000  23.875010   0.000000   \n",
       "6653  12.088920  3.646342  28.106102  0.0   0.000000   0.000000   0.000000   \n",
       "6654   0.000000  0.000000  53.899130  0.0   0.000000   0.000000  12.079654   \n",
       "6655   0.000000  0.000000  37.811558  0.0   0.000000   0.000000   8.555406   \n",
       "6656   0.000000  0.000000  29.105694  0.0   0.000000   8.669491  20.568624   \n",
       "\n",
       "        7    8         9  ...         55         56   57         58  \\\n",
       "0     0.0  0.0  0.000000  ...  35.563477   8.822042  0.0  18.269510   \n",
       "1     0.0  0.0  0.000000  ...  33.432617  22.573324  0.0  25.266916   \n",
       "2     0.0  0.0  4.531399  ...  17.747238  22.295591  0.0   9.600313   \n",
       "3     0.0  0.0  0.000000  ...  25.998358  12.029038  0.0  19.127953   \n",
       "4     0.0  0.0  0.000000  ...  27.024067   1.758605  0.0  17.696215   \n",
       "...   ...  ...       ...  ...        ...        ...  ...        ...   \n",
       "6652  0.0  0.0  9.403310  ...   0.000000   9.477231  0.0   0.000000   \n",
       "6653  0.0  0.0  0.000000  ...   0.000000   0.000000  0.0   0.000000   \n",
       "6654  0.0  0.0  0.000000  ...  12.388772  58.245360  0.0   0.000000   \n",
       "6655  0.0  0.0  0.000000  ...   7.663426  23.674717  0.0   0.000000   \n",
       "6656  0.0  0.0  0.000000  ...  11.354428  39.144600  0.0   0.000000   \n",
       "\n",
       "             59         60         61         62   63  class_name  \n",
       "0     82.596970   0.000000   0.000000   1.751286  0.0        3333  \n",
       "1     71.188900   0.000000   0.000000   0.000000  0.0        3333  \n",
       "2     39.380276   0.000000   0.000000  13.358544  0.0        3333  \n",
       "3     60.226376   0.000000   0.000000   0.000000  0.0        3333  \n",
       "4     64.634834   0.000000   0.000000   9.861172  0.0        3333  \n",
       "...         ...        ...        ...        ...  ...         ...  \n",
       "6652  46.723995   0.000000  20.901190   7.003646  0.0        3454  \n",
       "6653  38.677414   0.000000   1.824834   7.562943  0.0        3454  \n",
       "6654  47.787598   5.880453   0.000000   3.556168  0.0        3454  \n",
       "6655  53.260387   3.350826   0.000000   8.673196  0.0        3454  \n",
       "6656  62.376480  13.449656   0.000000  10.945368  0.0        3454  \n",
       "\n",
       "[6657 rows x 65 columns]"
      ]
     },
     "execution_count": 27,
     "metadata": {},
     "output_type": "execute_result"
    }
   ],
   "source": [
    "df"
   ]
  },
  {
   "cell_type": "code",
   "execution_count": 28,
   "id": "491d3d03",
   "metadata": {},
   "outputs": [
    {
     "data": {
      "text/html": [
       "<div>\n",
       "<style scoped>\n",
       "    .dataframe tbody tr th:only-of-type {\n",
       "        vertical-align: middle;\n",
       "    }\n",
       "\n",
       "    .dataframe tbody tr th {\n",
       "        vertical-align: top;\n",
       "    }\n",
       "\n",
       "    .dataframe thead th {\n",
       "        text-align: right;\n",
       "    }\n",
       "</style>\n",
       "<table border=\"1\" class=\"dataframe\">\n",
       "  <thead>\n",
       "    <tr style=\"text-align: right;\">\n",
       "      <th></th>\n",
       "      <th>0</th>\n",
       "      <th>1</th>\n",
       "      <th>2</th>\n",
       "      <th>3</th>\n",
       "      <th>4</th>\n",
       "      <th>5</th>\n",
       "      <th>6</th>\n",
       "      <th>7</th>\n",
       "      <th>8</th>\n",
       "      <th>9</th>\n",
       "      <th>...</th>\n",
       "      <th>55</th>\n",
       "      <th>56</th>\n",
       "      <th>57</th>\n",
       "      <th>58</th>\n",
       "      <th>59</th>\n",
       "      <th>60</th>\n",
       "      <th>61</th>\n",
       "      <th>62</th>\n",
       "      <th>63</th>\n",
       "      <th>class_name</th>\n",
       "    </tr>\n",
       "  </thead>\n",
       "  <tbody>\n",
       "    <tr>\n",
       "      <th>0</th>\n",
       "      <td>27.630783</td>\n",
       "      <td>0.000000</td>\n",
       "      <td>51.067493</td>\n",
       "      <td>0.0</td>\n",
       "      <td>26.302004</td>\n",
       "      <td>0.000000</td>\n",
       "      <td>0.000000</td>\n",
       "      <td>0.0</td>\n",
       "      <td>0.0</td>\n",
       "      <td>0.000000</td>\n",
       "      <td>...</td>\n",
       "      <td>35.563477</td>\n",
       "      <td>8.822042</td>\n",
       "      <td>0.0</td>\n",
       "      <td>18.269510</td>\n",
       "      <td>82.596970</td>\n",
       "      <td>0.000000</td>\n",
       "      <td>0.000000</td>\n",
       "      <td>1.751286</td>\n",
       "      <td>0.0</td>\n",
       "      <td>3333</td>\n",
       "    </tr>\n",
       "    <tr>\n",
       "      <th>1</th>\n",
       "      <td>41.934185</td>\n",
       "      <td>0.000000</td>\n",
       "      <td>57.616398</td>\n",
       "      <td>0.0</td>\n",
       "      <td>40.345722</td>\n",
       "      <td>0.000000</td>\n",
       "      <td>0.000000</td>\n",
       "      <td>0.0</td>\n",
       "      <td>0.0</td>\n",
       "      <td>0.000000</td>\n",
       "      <td>...</td>\n",
       "      <td>33.432617</td>\n",
       "      <td>22.573324</td>\n",
       "      <td>0.0</td>\n",
       "      <td>25.266916</td>\n",
       "      <td>71.188900</td>\n",
       "      <td>0.000000</td>\n",
       "      <td>0.000000</td>\n",
       "      <td>0.000000</td>\n",
       "      <td>0.0</td>\n",
       "      <td>3333</td>\n",
       "    </tr>\n",
       "    <tr>\n",
       "      <th>2</th>\n",
       "      <td>59.681458</td>\n",
       "      <td>0.000000</td>\n",
       "      <td>35.450397</td>\n",
       "      <td>0.0</td>\n",
       "      <td>51.084698</td>\n",
       "      <td>0.000000</td>\n",
       "      <td>0.000000</td>\n",
       "      <td>0.0</td>\n",
       "      <td>0.0</td>\n",
       "      <td>4.531399</td>\n",
       "      <td>...</td>\n",
       "      <td>17.747238</td>\n",
       "      <td>22.295591</td>\n",
       "      <td>0.0</td>\n",
       "      <td>9.600313</td>\n",
       "      <td>39.380276</td>\n",
       "      <td>0.000000</td>\n",
       "      <td>0.000000</td>\n",
       "      <td>13.358544</td>\n",
       "      <td>0.0</td>\n",
       "      <td>3333</td>\n",
       "    </tr>\n",
       "    <tr>\n",
       "      <th>3</th>\n",
       "      <td>25.652845</td>\n",
       "      <td>0.000000</td>\n",
       "      <td>42.711246</td>\n",
       "      <td>0.0</td>\n",
       "      <td>26.391441</td>\n",
       "      <td>0.000000</td>\n",
       "      <td>0.000000</td>\n",
       "      <td>0.0</td>\n",
       "      <td>0.0</td>\n",
       "      <td>0.000000</td>\n",
       "      <td>...</td>\n",
       "      <td>25.998358</td>\n",
       "      <td>12.029038</td>\n",
       "      <td>0.0</td>\n",
       "      <td>19.127953</td>\n",
       "      <td>60.226376</td>\n",
       "      <td>0.000000</td>\n",
       "      <td>0.000000</td>\n",
       "      <td>0.000000</td>\n",
       "      <td>0.0</td>\n",
       "      <td>3333</td>\n",
       "    </tr>\n",
       "    <tr>\n",
       "      <th>4</th>\n",
       "      <td>51.862490</td>\n",
       "      <td>0.000000</td>\n",
       "      <td>25.455917</td>\n",
       "      <td>0.0</td>\n",
       "      <td>48.505250</td>\n",
       "      <td>0.000000</td>\n",
       "      <td>0.000000</td>\n",
       "      <td>0.0</td>\n",
       "      <td>0.0</td>\n",
       "      <td>0.000000</td>\n",
       "      <td>...</td>\n",
       "      <td>27.024067</td>\n",
       "      <td>1.758605</td>\n",
       "      <td>0.0</td>\n",
       "      <td>17.696215</td>\n",
       "      <td>64.634834</td>\n",
       "      <td>0.000000</td>\n",
       "      <td>0.000000</td>\n",
       "      <td>9.861172</td>\n",
       "      <td>0.0</td>\n",
       "      <td>3333</td>\n",
       "    </tr>\n",
       "    <tr>\n",
       "      <th>...</th>\n",
       "      <td>...</td>\n",
       "      <td>...</td>\n",
       "      <td>...</td>\n",
       "      <td>...</td>\n",
       "      <td>...</td>\n",
       "      <td>...</td>\n",
       "      <td>...</td>\n",
       "      <td>...</td>\n",
       "      <td>...</td>\n",
       "      <td>...</td>\n",
       "      <td>...</td>\n",
       "      <td>...</td>\n",
       "      <td>...</td>\n",
       "      <td>...</td>\n",
       "      <td>...</td>\n",
       "      <td>...</td>\n",
       "      <td>...</td>\n",
       "      <td>...</td>\n",
       "      <td>...</td>\n",
       "      <td>...</td>\n",
       "      <td>...</td>\n",
       "    </tr>\n",
       "    <tr>\n",
       "      <th>6652</th>\n",
       "      <td>0.000000</td>\n",
       "      <td>8.917019</td>\n",
       "      <td>12.606703</td>\n",
       "      <td>0.0</td>\n",
       "      <td>0.000000</td>\n",
       "      <td>23.875010</td>\n",
       "      <td>0.000000</td>\n",
       "      <td>0.0</td>\n",
       "      <td>0.0</td>\n",
       "      <td>9.403310</td>\n",
       "      <td>...</td>\n",
       "      <td>0.000000</td>\n",
       "      <td>9.477231</td>\n",
       "      <td>0.0</td>\n",
       "      <td>0.000000</td>\n",
       "      <td>46.723995</td>\n",
       "      <td>0.000000</td>\n",
       "      <td>20.901190</td>\n",
       "      <td>7.003646</td>\n",
       "      <td>0.0</td>\n",
       "      <td>3454</td>\n",
       "    </tr>\n",
       "    <tr>\n",
       "      <th>6653</th>\n",
       "      <td>12.088920</td>\n",
       "      <td>3.646342</td>\n",
       "      <td>28.106102</td>\n",
       "      <td>0.0</td>\n",
       "      <td>0.000000</td>\n",
       "      <td>0.000000</td>\n",
       "      <td>0.000000</td>\n",
       "      <td>0.0</td>\n",
       "      <td>0.0</td>\n",
       "      <td>0.000000</td>\n",
       "      <td>...</td>\n",
       "      <td>0.000000</td>\n",
       "      <td>0.000000</td>\n",
       "      <td>0.0</td>\n",
       "      <td>0.000000</td>\n",
       "      <td>38.677414</td>\n",
       "      <td>0.000000</td>\n",
       "      <td>1.824834</td>\n",
       "      <td>7.562943</td>\n",
       "      <td>0.0</td>\n",
       "      <td>3454</td>\n",
       "    </tr>\n",
       "    <tr>\n",
       "      <th>6654</th>\n",
       "      <td>0.000000</td>\n",
       "      <td>0.000000</td>\n",
       "      <td>53.899130</td>\n",
       "      <td>0.0</td>\n",
       "      <td>0.000000</td>\n",
       "      <td>0.000000</td>\n",
       "      <td>12.079654</td>\n",
       "      <td>0.0</td>\n",
       "      <td>0.0</td>\n",
       "      <td>0.000000</td>\n",
       "      <td>...</td>\n",
       "      <td>12.388772</td>\n",
       "      <td>58.245360</td>\n",
       "      <td>0.0</td>\n",
       "      <td>0.000000</td>\n",
       "      <td>47.787598</td>\n",
       "      <td>5.880453</td>\n",
       "      <td>0.000000</td>\n",
       "      <td>3.556168</td>\n",
       "      <td>0.0</td>\n",
       "      <td>3454</td>\n",
       "    </tr>\n",
       "    <tr>\n",
       "      <th>6655</th>\n",
       "      <td>0.000000</td>\n",
       "      <td>0.000000</td>\n",
       "      <td>37.811558</td>\n",
       "      <td>0.0</td>\n",
       "      <td>0.000000</td>\n",
       "      <td>0.000000</td>\n",
       "      <td>8.555406</td>\n",
       "      <td>0.0</td>\n",
       "      <td>0.0</td>\n",
       "      <td>0.000000</td>\n",
       "      <td>...</td>\n",
       "      <td>7.663426</td>\n",
       "      <td>23.674717</td>\n",
       "      <td>0.0</td>\n",
       "      <td>0.000000</td>\n",
       "      <td>53.260387</td>\n",
       "      <td>3.350826</td>\n",
       "      <td>0.000000</td>\n",
       "      <td>8.673196</td>\n",
       "      <td>0.0</td>\n",
       "      <td>3454</td>\n",
       "    </tr>\n",
       "    <tr>\n",
       "      <th>6656</th>\n",
       "      <td>0.000000</td>\n",
       "      <td>0.000000</td>\n",
       "      <td>29.105694</td>\n",
       "      <td>0.0</td>\n",
       "      <td>0.000000</td>\n",
       "      <td>8.669491</td>\n",
       "      <td>20.568624</td>\n",
       "      <td>0.0</td>\n",
       "      <td>0.0</td>\n",
       "      <td>0.000000</td>\n",
       "      <td>...</td>\n",
       "      <td>11.354428</td>\n",
       "      <td>39.144600</td>\n",
       "      <td>0.0</td>\n",
       "      <td>0.000000</td>\n",
       "      <td>62.376480</td>\n",
       "      <td>13.449656</td>\n",
       "      <td>0.000000</td>\n",
       "      <td>10.945368</td>\n",
       "      <td>0.0</td>\n",
       "      <td>3454</td>\n",
       "    </tr>\n",
       "  </tbody>\n",
       "</table>\n",
       "<p>6657 rows × 65 columns</p>\n",
       "</div>"
      ],
      "text/plain": [
       "              0         1          2    3          4          5          6  \\\n",
       "0     27.630783  0.000000  51.067493  0.0  26.302004   0.000000   0.000000   \n",
       "1     41.934185  0.000000  57.616398  0.0  40.345722   0.000000   0.000000   \n",
       "2     59.681458  0.000000  35.450397  0.0  51.084698   0.000000   0.000000   \n",
       "3     25.652845  0.000000  42.711246  0.0  26.391441   0.000000   0.000000   \n",
       "4     51.862490  0.000000  25.455917  0.0  48.505250   0.000000   0.000000   \n",
       "...         ...       ...        ...  ...        ...        ...        ...   \n",
       "6652   0.000000  8.917019  12.606703  0.0   0.000000  23.875010   0.000000   \n",
       "6653  12.088920  3.646342  28.106102  0.0   0.000000   0.000000   0.000000   \n",
       "6654   0.000000  0.000000  53.899130  0.0   0.000000   0.000000  12.079654   \n",
       "6655   0.000000  0.000000  37.811558  0.0   0.000000   0.000000   8.555406   \n",
       "6656   0.000000  0.000000  29.105694  0.0   0.000000   8.669491  20.568624   \n",
       "\n",
       "        7    8         9  ...         55         56   57         58  \\\n",
       "0     0.0  0.0  0.000000  ...  35.563477   8.822042  0.0  18.269510   \n",
       "1     0.0  0.0  0.000000  ...  33.432617  22.573324  0.0  25.266916   \n",
       "2     0.0  0.0  4.531399  ...  17.747238  22.295591  0.0   9.600313   \n",
       "3     0.0  0.0  0.000000  ...  25.998358  12.029038  0.0  19.127953   \n",
       "4     0.0  0.0  0.000000  ...  27.024067   1.758605  0.0  17.696215   \n",
       "...   ...  ...       ...  ...        ...        ...  ...        ...   \n",
       "6652  0.0  0.0  9.403310  ...   0.000000   9.477231  0.0   0.000000   \n",
       "6653  0.0  0.0  0.000000  ...   0.000000   0.000000  0.0   0.000000   \n",
       "6654  0.0  0.0  0.000000  ...  12.388772  58.245360  0.0   0.000000   \n",
       "6655  0.0  0.0  0.000000  ...   7.663426  23.674717  0.0   0.000000   \n",
       "6656  0.0  0.0  0.000000  ...  11.354428  39.144600  0.0   0.000000   \n",
       "\n",
       "             59         60         61         62   63  class_name  \n",
       "0     82.596970   0.000000   0.000000   1.751286  0.0        3333  \n",
       "1     71.188900   0.000000   0.000000   0.000000  0.0        3333  \n",
       "2     39.380276   0.000000   0.000000  13.358544  0.0        3333  \n",
       "3     60.226376   0.000000   0.000000   0.000000  0.0        3333  \n",
       "4     64.634834   0.000000   0.000000   9.861172  0.0        3333  \n",
       "...         ...        ...        ...        ...  ...         ...  \n",
       "6652  46.723995   0.000000  20.901190   7.003646  0.0        3454  \n",
       "6653  38.677414   0.000000   1.824834   7.562943  0.0        3454  \n",
       "6654  47.787598   5.880453   0.000000   3.556168  0.0        3454  \n",
       "6655  53.260387   3.350826   0.000000   8.673196  0.0        3454  \n",
       "6656  62.376480  13.449656   0.000000  10.945368  0.0        3454  \n",
       "\n",
       "[6657 rows x 65 columns]"
      ]
     },
     "execution_count": 28,
     "metadata": {},
     "output_type": "execute_result"
    }
   ],
   "source": [
    "df.dropna()"
   ]
  },
  {
   "cell_type": "code",
   "execution_count": 31,
   "id": "1b42c8f1",
   "metadata": {},
   "outputs": [
    {
     "name": "stdout",
     "output_type": "stream",
     "text": [
      "<class 'pandas.core.series.Series'>\n"
     ]
    }
   ],
   "source": [
    "print(type(y_train))"
   ]
  },
  {
   "cell_type": "code",
   "execution_count": 32,
   "id": "2c9b68d3",
   "metadata": {},
   "outputs": [
    {
     "name": "stdout",
     "output_type": "stream",
     "text": [
      "<class 'pandas.core.series.Series'>\n"
     ]
    }
   ],
   "source": [
    "print(type(y_test))"
   ]
  }
 ],
 "metadata": {
  "kernelspec": {
   "display_name": "Python 3 (ipykernel)",
   "language": "python",
   "name": "python3"
  },
  "language_info": {
   "codemirror_mode": {
    "name": "ipython",
    "version": 3
   },
   "file_extension": ".py",
   "mimetype": "text/x-python",
   "name": "python",
   "nbconvert_exporter": "python",
   "pygments_lexer": "ipython3",
   "version": "3.11.4"
  }
 },
 "nbformat": 4,
 "nbformat_minor": 5
}
